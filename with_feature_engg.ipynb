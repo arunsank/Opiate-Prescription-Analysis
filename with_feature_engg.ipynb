{
 "cells": [
  {
   "cell_type": "code",
   "execution_count": 2,
   "metadata": {
    "collapsed": true
   },
   "outputs": [],
   "source": [
    "import numpy as np\n",
    "import pandas as pd\n",
    "import itertools\n",
    "import plotly.plotly as py\n",
    "import plotly.graph_objs as go\n",
    "import seaborn as sns\n",
    "import matplotlib.pylab as plt\n",
    "from sklearn.model_selection import cross_val_predict\n",
    "from sklearn.model_selection import validation_curve, learning_curve\n",
    "from sklearn.pipeline import Pipeline\n",
    "from sklearn.feature_selection import SelectKBest\n",
    "from sklearn.feature_selection import chi2\n",
    "from sklearn.feature_selection import VarianceThreshold\n",
    "from sklearn.model_selection import GridSearchCV\n",
    "from sklearn.model_selection import ShuffleSplit\n",
    "from sklearn import tree\n",
    "from sklearn.ensemble import BaggingClassifier\n",
    "from sklearn import metrics\n",
    "%matplotlib inline"
   ]
  },
  {
   "cell_type": "code",
   "execution_count": 3,
   "metadata": {
    "collapsed": true
   },
   "outputs": [],
   "source": [
    "import plotly \n",
    "plotly.tools.set_credentials_file(username='anikamal', api_key='BSWmdlJFrie24url3SK4')"
   ]
  },
  {
   "cell_type": "code",
   "execution_count": 4,
   "metadata": {
    "collapsed": false
   },
   "outputs": [],
   "source": [
    "df = pd.read_csv(\"data\\\\prescriber-info.csv\")\n",
    "# load the file as pandas dataframe\n",
    "opiate_df = pd.read_csv(\"data\\\\opioids.csv\")\n",
    "# read the opiate drug file"
   ]
  },
  {
   "cell_type": "markdown",
   "metadata": {},
   "source": [
    "# Dropping of drugs that are opiate"
   ]
  },
  {
   "cell_type": "code",
   "execution_count": 3,
   "metadata": {
    "collapsed": false
   },
   "outputs": [
    {
     "data": {
      "text/html": [
       "<div>\n",
       "<table border=\"1\" class=\"dataframe\">\n",
       "  <thead>\n",
       "    <tr style=\"text-align: right;\">\n",
       "      <th></th>\n",
       "      <th>NPI</th>\n",
       "      <th>Gender</th>\n",
       "      <th>State</th>\n",
       "      <th>Credentials</th>\n",
       "      <th>Specialty</th>\n",
       "      <th>ABILIFY</th>\n",
       "      <th>ACYCLOVIR</th>\n",
       "      <th>ADVAIR.DISKUS</th>\n",
       "      <th>AGGRENOX</th>\n",
       "      <th>ALENDRONATE.SODIUM</th>\n",
       "      <th>...</th>\n",
       "      <th>VERAPAMIL.ER</th>\n",
       "      <th>VESICARE</th>\n",
       "      <th>VOLTAREN</th>\n",
       "      <th>VYTORIN</th>\n",
       "      <th>WARFARIN.SODIUM</th>\n",
       "      <th>XARELTO</th>\n",
       "      <th>ZETIA</th>\n",
       "      <th>ZIPRASIDONE.HCL</th>\n",
       "      <th>ZOLPIDEM.TARTRATE</th>\n",
       "      <th>Opioid.Prescriber</th>\n",
       "    </tr>\n",
       "  </thead>\n",
       "  <tbody>\n",
       "    <tr>\n",
       "      <th>0</th>\n",
       "      <td>1710982582</td>\n",
       "      <td>M</td>\n",
       "      <td>TX</td>\n",
       "      <td>DDS</td>\n",
       "      <td>Dentist</td>\n",
       "      <td>0</td>\n",
       "      <td>0</td>\n",
       "      <td>0</td>\n",
       "      <td>0</td>\n",
       "      <td>0</td>\n",
       "      <td>...</td>\n",
       "      <td>0</td>\n",
       "      <td>0</td>\n",
       "      <td>0</td>\n",
       "      <td>0</td>\n",
       "      <td>0</td>\n",
       "      <td>0</td>\n",
       "      <td>0</td>\n",
       "      <td>0</td>\n",
       "      <td>0</td>\n",
       "      <td>1</td>\n",
       "    </tr>\n",
       "    <tr>\n",
       "      <th>1</th>\n",
       "      <td>1245278100</td>\n",
       "      <td>F</td>\n",
       "      <td>AL</td>\n",
       "      <td>MD</td>\n",
       "      <td>General Surgery</td>\n",
       "      <td>0</td>\n",
       "      <td>0</td>\n",
       "      <td>0</td>\n",
       "      <td>0</td>\n",
       "      <td>0</td>\n",
       "      <td>...</td>\n",
       "      <td>0</td>\n",
       "      <td>0</td>\n",
       "      <td>0</td>\n",
       "      <td>0</td>\n",
       "      <td>0</td>\n",
       "      <td>0</td>\n",
       "      <td>0</td>\n",
       "      <td>0</td>\n",
       "      <td>35</td>\n",
       "      <td>1</td>\n",
       "    </tr>\n",
       "    <tr>\n",
       "      <th>2</th>\n",
       "      <td>1427182161</td>\n",
       "      <td>F</td>\n",
       "      <td>NY</td>\n",
       "      <td>M.D.</td>\n",
       "      <td>General Practice</td>\n",
       "      <td>0</td>\n",
       "      <td>0</td>\n",
       "      <td>0</td>\n",
       "      <td>0</td>\n",
       "      <td>0</td>\n",
       "      <td>...</td>\n",
       "      <td>0</td>\n",
       "      <td>0</td>\n",
       "      <td>0</td>\n",
       "      <td>0</td>\n",
       "      <td>0</td>\n",
       "      <td>0</td>\n",
       "      <td>0</td>\n",
       "      <td>0</td>\n",
       "      <td>25</td>\n",
       "      <td>0</td>\n",
       "    </tr>\n",
       "    <tr>\n",
       "      <th>3</th>\n",
       "      <td>1669567541</td>\n",
       "      <td>M</td>\n",
       "      <td>AZ</td>\n",
       "      <td>MD</td>\n",
       "      <td>Internal Medicine</td>\n",
       "      <td>0</td>\n",
       "      <td>0</td>\n",
       "      <td>0</td>\n",
       "      <td>0</td>\n",
       "      <td>21</td>\n",
       "      <td>...</td>\n",
       "      <td>0</td>\n",
       "      <td>0</td>\n",
       "      <td>0</td>\n",
       "      <td>0</td>\n",
       "      <td>0</td>\n",
       "      <td>0</td>\n",
       "      <td>0</td>\n",
       "      <td>0</td>\n",
       "      <td>0</td>\n",
       "      <td>1</td>\n",
       "    </tr>\n",
       "    <tr>\n",
       "      <th>4</th>\n",
       "      <td>1679650949</td>\n",
       "      <td>M</td>\n",
       "      <td>NV</td>\n",
       "      <td>M.D.</td>\n",
       "      <td>Hematology/Oncology</td>\n",
       "      <td>0</td>\n",
       "      <td>0</td>\n",
       "      <td>0</td>\n",
       "      <td>0</td>\n",
       "      <td>0</td>\n",
       "      <td>...</td>\n",
       "      <td>0</td>\n",
       "      <td>0</td>\n",
       "      <td>0</td>\n",
       "      <td>0</td>\n",
       "      <td>17</td>\n",
       "      <td>28</td>\n",
       "      <td>0</td>\n",
       "      <td>0</td>\n",
       "      <td>0</td>\n",
       "      <td>1</td>\n",
       "    </tr>\n",
       "  </tbody>\n",
       "</table>\n",
       "<p>5 rows × 245 columns</p>\n",
       "</div>"
      ],
      "text/plain": [
       "          NPI Gender State Credentials            Specialty  ABILIFY  \\\n",
       "0  1710982582      M    TX         DDS              Dentist        0   \n",
       "1  1245278100      F    AL          MD      General Surgery        0   \n",
       "2  1427182161      F    NY        M.D.     General Practice        0   \n",
       "3  1669567541      M    AZ          MD    Internal Medicine        0   \n",
       "4  1679650949      M    NV        M.D.  Hematology/Oncology        0   \n",
       "\n",
       "   ACYCLOVIR  ADVAIR.DISKUS  AGGRENOX  ALENDRONATE.SODIUM        ...          \\\n",
       "0          0              0         0                   0        ...           \n",
       "1          0              0         0                   0        ...           \n",
       "2          0              0         0                   0        ...           \n",
       "3          0              0         0                  21        ...           \n",
       "4          0              0         0                   0        ...           \n",
       "\n",
       "   VERAPAMIL.ER  VESICARE  VOLTAREN  VYTORIN  WARFARIN.SODIUM  XARELTO  ZETIA  \\\n",
       "0             0         0         0        0                0        0      0   \n",
       "1             0         0         0        0                0        0      0   \n",
       "2             0         0         0        0                0        0      0   \n",
       "3             0         0         0        0                0        0      0   \n",
       "4             0         0         0        0               17       28      0   \n",
       "\n",
       "   ZIPRASIDONE.HCL  ZOLPIDEM.TARTRATE  Opioid.Prescriber  \n",
       "0                0                  0                  1  \n",
       "1                0                 35                  1  \n",
       "2                0                 25                  0  \n",
       "3                0                  0                  1  \n",
       "4                0                  0                  1  \n",
       "\n",
       "[5 rows x 245 columns]"
      ]
     },
     "execution_count": 3,
     "metadata": {},
     "output_type": "execute_result"
    }
   ],
   "source": [
    "opiate = []\n",
    "for col in opiate_df:\n",
    "    for drug in opiate_df[col]:\n",
    "        drug = drug.replace(\" \", \".\")\n",
    "        drug = drug.replace(\"-\", \".\")\n",
    "        for given in df.columns:\n",
    "            if drug == given:\n",
    "                opiate.append(given)\n",
    "opiate = list(set(opiate))\n",
    "df.drop(opiate, axis = 1, inplace = True)\n",
    "df.head(5)"
   ]
  },
  {
   "cell_type": "markdown",
   "metadata": {},
   "source": [
    "# User defined functions"
   ]
  },
  {
   "cell_type": "code",
   "execution_count": 4,
   "metadata": {
    "collapsed": false
   },
   "outputs": [],
   "source": [
    "\n",
    "def plot_confusion_matrix(cm, classes,\n",
    "                          normalize=False,\n",
    "                          title='Confusion matrix',\n",
    "                          cmap=plt.cm.Blues):\n",
    "    \"\"\"\n",
    "    This function prints and plots the confusion matrix.\n",
    "    Normalization can be applied by setting `normalize=True`.\n",
    "    \"\"\"\n",
    "    plt.figure(figsize = (4, 4))\n",
    "    plt.imshow(cm, interpolation='nearest', cmap=cmap)\n",
    "    plt.title(title)\n",
    "    plt.colorbar()\n",
    "    tick_marks = np.arange(len(classes))\n",
    "    plt.xticks(tick_marks, classes)\n",
    "    plt.yticks(tick_marks, classes)\n",
    "\n",
    "    if normalize:\n",
    "        cm = cm.astype('float') / cm.sum(axis=1)[:, np.newaxis]\n",
    "        print(\"Normalized confusion matrix\")\n",
    "    else:\n",
    "        print('Confusion matrix, without normalization')\n",
    "\n",
    "    print(cm)\n",
    "\n",
    "    thresh = cm.max() / 2.\n",
    "    for i, j in itertools.product(range(cm.shape[0]), range(cm.shape[1])):\n",
    "        plt.text(j, i, cm[i, j],\n",
    "                 horizontalalignment=\"center\",\n",
    "                 color=\"white\" if cm[i, j] > thresh else \"black\")\n",
    "\n",
    "    plt.tight_layout()\n",
    "    plt.ylabel('True label')\n",
    "    plt.xlabel('Predicted label')"
   ]
  },
  {
   "cell_type": "code",
   "execution_count": 5,
   "metadata": {
    "collapsed": true
   },
   "outputs": [],
   "source": [
    "def performance_metrics(actual, predict):\n",
    "    \"\"\"\n",
    "    This function evaluates the performance metrics \n",
    "    needed.\n",
    "    \"\"\"\n",
    "    \n",
    "    accuracy = np.mean(actual == predict)\n",
    "    # compute accuracy\n",
    "    print(\"Accuracy: {0}%\".format(accuracy*100))\n",
    "    print(\"\\nReport\")\n",
    "    print(metrics.classification_report(actual, predict))\n",
    "    # classification report\n",
    "    matrix = (metrics.confusion_matrix(actual, predict))\n",
    "    plot_confusion_matrix(matrix, ['0', '1'])\n",
    "    # plot the confusion matrix\n",
    "    fpr, tpr, threshold = metrics.roc_curve(actual, predict)\n",
    "    # values to plot ROC curve\n",
    "    print(\"FPR\")\n",
    "    print(fpr)\n",
    "    print(\"TPR\")\n",
    "    print(tpr)\n",
    "    print(\"Thresholds\")\n",
    "    print(threshold)\n",
    "    auc = round(metrics.roc_auc_score(actual, predict), 2)\n",
    "    # get the area under curve\n",
    "    plt.figure()\n",
    "    plt.plot(fpr, tpr, label='ROC curve (area = {0})'.format(auc), color = 'green')\n",
    "    plt.plot([0, 1], [0, 1], color='navy', linestyle='--')\n",
    "    plt.title(\"ROC Curve\")\n",
    "    plt.xlabel(\"False Positive Rate\")\n",
    "    plt.ylabel(\"True Positive Rate\")\n",
    "    plt.legend(loc=\"lower right\")\n",
    "    plt.show()"
   ]
  },
  {
   "cell_type": "code",
   "execution_count": 47,
   "metadata": {
    "collapsed": true
   },
   "outputs": [],
   "source": [
    "def feature_graph(x, y, k = 10, filename = None):\n",
    "    \"\"\"\n",
    "    Helps to plot the feature and its score\n",
    "    \"\"\"\n",
    "\n",
    "    trace = go.Bar(\n",
    "                   x = [i[0] for i in feature_imp[:k]],\n",
    "                   y = [i[1] for i in feature_imp[:k]],\n",
    "                   )\n",
    "    data = [trace]\n",
    "    layout = go.Layout(\n",
    "        title='Top ten feature-scores',\n",
    "        xaxis=dict(\n",
    "            title = \"Features\",\n",
    "            tickangle = 40,\n",
    "            tickfont=dict(\n",
    "                size=8,\n",
    "                color='rgba(0, 0, 0, 1)'\n",
    "            )\n",
    "        ),\n",
    "        yaxis=dict(\n",
    "            title='Feature score',\n",
    "            titlefont=dict(\n",
    "                size=14,\n",
    "                color='rgba(0, 0, 0, 1)'\n",
    "            ),\n",
    "            tickfont=dict(\n",
    "                size=14,\n",
    "                color='rgba(0, 0, 0, 1)'\n",
    "            )\n",
    "        ),\n",
    "        plot_bgcolor = 'rgba(100, 100, 100, 0.04)'\n",
    "    )\n",
    "    \n",
    "    fig = go.Figure(data=data, layout = layout)\n",
    "    return py.iplot(fig, filename = filename)"
   ]
  },
  {
   "cell_type": "markdown",
   "metadata": {
    "collapsed": true
   },
   "source": [
    "# Down sampling of data"
   ]
  },
  {
   "cell_type": "code",
   "execution_count": 7,
   "metadata": {
    "collapsed": false
   },
   "outputs": [],
   "source": [
    "zero = df[df['Opioid.Prescriber'] == 0]\n",
    "one = df[df['Opioid.Prescriber'] == 1]\n",
    "# get the data of each class\n",
    "if len(one) > len(zero):\n",
    "    index = one.index[len(zero):]\n",
    "else:\n",
    "    index = zero.index[:len(one)]\n",
    "\n",
    "df.drop(index, inplace = True)\n",
    "# drop the rows to achieve balanced class labels"
   ]
  },
  {
   "cell_type": "markdown",
   "metadata": {},
   "source": [
    "# Data PreProcessing"
   ]
  },
  {
   "cell_type": "code",
   "execution_count": 8,
   "metadata": {
    "collapsed": false
   },
   "outputs": [
    {
     "data": {
      "text/html": [
       "<div>\n",
       "<table border=\"1\" class=\"dataframe\">\n",
       "  <thead>\n",
       "    <tr style=\"text-align: right;\">\n",
       "      <th></th>\n",
       "      <th>ABILIFY</th>\n",
       "      <th>ACYCLOVIR</th>\n",
       "      <th>ADVAIR.DISKUS</th>\n",
       "      <th>AGGRENOX</th>\n",
       "      <th>ALENDRONATE.SODIUM</th>\n",
       "      <th>ALLOPURINOL</th>\n",
       "      <th>ALPRAZOLAM</th>\n",
       "      <th>AMIODARONE.HCL</th>\n",
       "      <th>AMITRIPTYLINE.HCL</th>\n",
       "      <th>AMLODIPINE.BESYLATE</th>\n",
       "      <th>...</th>\n",
       "      <th>VERAPAMIL.ER</th>\n",
       "      <th>VESICARE</th>\n",
       "      <th>VOLTAREN</th>\n",
       "      <th>VYTORIN</th>\n",
       "      <th>WARFARIN.SODIUM</th>\n",
       "      <th>XARELTO</th>\n",
       "      <th>ZETIA</th>\n",
       "      <th>ZIPRASIDONE.HCL</th>\n",
       "      <th>ZOLPIDEM.TARTRATE</th>\n",
       "      <th>Opioid.Prescriber</th>\n",
       "    </tr>\n",
       "  </thead>\n",
       "  <tbody>\n",
       "    <tr>\n",
       "      <th>0</th>\n",
       "      <td>0</td>\n",
       "      <td>0</td>\n",
       "      <td>0</td>\n",
       "      <td>0</td>\n",
       "      <td>0</td>\n",
       "      <td>0</td>\n",
       "      <td>0</td>\n",
       "      <td>0</td>\n",
       "      <td>0</td>\n",
       "      <td>0</td>\n",
       "      <td>...</td>\n",
       "      <td>0</td>\n",
       "      <td>0</td>\n",
       "      <td>0</td>\n",
       "      <td>0</td>\n",
       "      <td>0</td>\n",
       "      <td>0</td>\n",
       "      <td>0</td>\n",
       "      <td>0</td>\n",
       "      <td>0</td>\n",
       "      <td>1</td>\n",
       "    </tr>\n",
       "    <tr>\n",
       "      <th>1</th>\n",
       "      <td>0</td>\n",
       "      <td>0</td>\n",
       "      <td>0</td>\n",
       "      <td>0</td>\n",
       "      <td>0</td>\n",
       "      <td>0</td>\n",
       "      <td>134</td>\n",
       "      <td>0</td>\n",
       "      <td>0</td>\n",
       "      <td>15</td>\n",
       "      <td>...</td>\n",
       "      <td>0</td>\n",
       "      <td>0</td>\n",
       "      <td>0</td>\n",
       "      <td>0</td>\n",
       "      <td>0</td>\n",
       "      <td>0</td>\n",
       "      <td>0</td>\n",
       "      <td>0</td>\n",
       "      <td>35</td>\n",
       "      <td>1</td>\n",
       "    </tr>\n",
       "    <tr>\n",
       "      <th>2</th>\n",
       "      <td>0</td>\n",
       "      <td>0</td>\n",
       "      <td>0</td>\n",
       "      <td>0</td>\n",
       "      <td>0</td>\n",
       "      <td>0</td>\n",
       "      <td>0</td>\n",
       "      <td>0</td>\n",
       "      <td>0</td>\n",
       "      <td>0</td>\n",
       "      <td>...</td>\n",
       "      <td>0</td>\n",
       "      <td>0</td>\n",
       "      <td>0</td>\n",
       "      <td>0</td>\n",
       "      <td>0</td>\n",
       "      <td>0</td>\n",
       "      <td>0</td>\n",
       "      <td>0</td>\n",
       "      <td>25</td>\n",
       "      <td>0</td>\n",
       "    </tr>\n",
       "    <tr>\n",
       "      <th>3</th>\n",
       "      <td>0</td>\n",
       "      <td>0</td>\n",
       "      <td>0</td>\n",
       "      <td>0</td>\n",
       "      <td>21</td>\n",
       "      <td>0</td>\n",
       "      <td>0</td>\n",
       "      <td>0</td>\n",
       "      <td>0</td>\n",
       "      <td>58</td>\n",
       "      <td>...</td>\n",
       "      <td>0</td>\n",
       "      <td>0</td>\n",
       "      <td>0</td>\n",
       "      <td>0</td>\n",
       "      <td>0</td>\n",
       "      <td>0</td>\n",
       "      <td>0</td>\n",
       "      <td>0</td>\n",
       "      <td>0</td>\n",
       "      <td>1</td>\n",
       "    </tr>\n",
       "    <tr>\n",
       "      <th>4</th>\n",
       "      <td>0</td>\n",
       "      <td>0</td>\n",
       "      <td>0</td>\n",
       "      <td>0</td>\n",
       "      <td>0</td>\n",
       "      <td>0</td>\n",
       "      <td>0</td>\n",
       "      <td>0</td>\n",
       "      <td>19</td>\n",
       "      <td>0</td>\n",
       "      <td>...</td>\n",
       "      <td>0</td>\n",
       "      <td>0</td>\n",
       "      <td>0</td>\n",
       "      <td>0</td>\n",
       "      <td>17</td>\n",
       "      <td>28</td>\n",
       "      <td>0</td>\n",
       "      <td>0</td>\n",
       "      <td>0</td>\n",
       "      <td>1</td>\n",
       "    </tr>\n",
       "  </tbody>\n",
       "</table>\n",
       "<p>5 rows × 240 columns</p>\n",
       "</div>"
      ],
      "text/plain": [
       "   ABILIFY  ACYCLOVIR  ADVAIR.DISKUS  AGGRENOX  ALENDRONATE.SODIUM  \\\n",
       "0        0          0              0         0                   0   \n",
       "1        0          0              0         0                   0   \n",
       "2        0          0              0         0                   0   \n",
       "3        0          0              0         0                  21   \n",
       "4        0          0              0         0                   0   \n",
       "\n",
       "   ALLOPURINOL  ALPRAZOLAM  AMIODARONE.HCL  AMITRIPTYLINE.HCL  \\\n",
       "0            0           0               0                  0   \n",
       "1            0         134               0                  0   \n",
       "2            0           0               0                  0   \n",
       "3            0           0               0                  0   \n",
       "4            0           0               0                 19   \n",
       "\n",
       "   AMLODIPINE.BESYLATE        ...          VERAPAMIL.ER  VESICARE  VOLTAREN  \\\n",
       "0                    0        ...                     0         0         0   \n",
       "1                   15        ...                     0         0         0   \n",
       "2                    0        ...                     0         0         0   \n",
       "3                   58        ...                     0         0         0   \n",
       "4                    0        ...                     0         0         0   \n",
       "\n",
       "   VYTORIN  WARFARIN.SODIUM  XARELTO  ZETIA  ZIPRASIDONE.HCL  \\\n",
       "0        0                0        0      0                0   \n",
       "1        0                0        0      0                0   \n",
       "2        0                0        0      0                0   \n",
       "3        0                0        0      0                0   \n",
       "4        0               17       28      0                0   \n",
       "\n",
       "   ZOLPIDEM.TARTRATE  Opioid.Prescriber  \n",
       "0                  0                  1  \n",
       "1                 35                  1  \n",
       "2                 25                  0  \n",
       "3                  0                  1  \n",
       "4                  0                  1  \n",
       "\n",
       "[5 rows x 240 columns]"
      ]
     },
     "execution_count": 8,
     "metadata": {},
     "output_type": "execute_result"
    }
   ],
   "source": [
    "gender = df['Gender']\n",
    "state = df['State']\n",
    "specialty = df['Specialty']\n",
    "columns = ['NPI', 'Credentials', 'Gender', 'State', 'Specialty']\n",
    "# columns to be dropped\n",
    "df.drop(labels = columns, axis = 1, inplace = True)\n",
    "# drop the columns\n",
    "df.head()"
   ]
  },
  {
   "cell_type": "code",
   "execution_count": 9,
   "metadata": {
    "collapsed": false
   },
   "outputs": [],
   "source": [
    "labels = df['Opioid.Prescriber']\n",
    "# get the class label values\n",
    "features = df.drop(labels = 'Opioid.Prescriber', axis = 1)\n",
    "# features for the data\n",
    "features = pd.get_dummies(features)\n",
    "# convert categorical data as features"
   ]
  },
  {
   "cell_type": "markdown",
   "metadata": {},
   "source": [
    "# Feature Engineering"
   ]
  },
  {
   "cell_type": "code",
   "execution_count": 10,
   "metadata": {
    "collapsed": false
   },
   "outputs": [
    {
     "data": {
      "text/html": [
       "<div>\n",
       "<table border=\"1\" class=\"dataframe\">\n",
       "  <thead>\n",
       "    <tr style=\"text-align: right;\">\n",
       "      <th></th>\n",
       "      <th>ABILIFY</th>\n",
       "      <th>ACYCLOVIR</th>\n",
       "      <th>ADVAIR.DISKUS</th>\n",
       "      <th>AGGRENOX</th>\n",
       "      <th>ALENDRONATE.SODIUM</th>\n",
       "      <th>ALLOPURINOL</th>\n",
       "      <th>ALPRAZOLAM</th>\n",
       "      <th>AMIODARONE.HCL</th>\n",
       "      <th>AMITRIPTYLINE.HCL</th>\n",
       "      <th>AMLODIPINE.BESYLATE</th>\n",
       "      <th>...</th>\n",
       "      <th>VENTOLIN.HFA</th>\n",
       "      <th>VERAPAMIL.ER</th>\n",
       "      <th>VESICARE</th>\n",
       "      <th>VOLTAREN</th>\n",
       "      <th>VYTORIN</th>\n",
       "      <th>WARFARIN.SODIUM</th>\n",
       "      <th>XARELTO</th>\n",
       "      <th>ZETIA</th>\n",
       "      <th>ZIPRASIDONE.HCL</th>\n",
       "      <th>ZOLPIDEM.TARTRATE</th>\n",
       "    </tr>\n",
       "  </thead>\n",
       "  <tbody>\n",
       "    <tr>\n",
       "      <th>0</th>\n",
       "      <td>0</td>\n",
       "      <td>0</td>\n",
       "      <td>0</td>\n",
       "      <td>0</td>\n",
       "      <td>0</td>\n",
       "      <td>0</td>\n",
       "      <td>0</td>\n",
       "      <td>0</td>\n",
       "      <td>0</td>\n",
       "      <td>0</td>\n",
       "      <td>...</td>\n",
       "      <td>0</td>\n",
       "      <td>0</td>\n",
       "      <td>0</td>\n",
       "      <td>0</td>\n",
       "      <td>0</td>\n",
       "      <td>0</td>\n",
       "      <td>0</td>\n",
       "      <td>0</td>\n",
       "      <td>0</td>\n",
       "      <td>0</td>\n",
       "    </tr>\n",
       "    <tr>\n",
       "      <th>1</th>\n",
       "      <td>0</td>\n",
       "      <td>0</td>\n",
       "      <td>0</td>\n",
       "      <td>0</td>\n",
       "      <td>0</td>\n",
       "      <td>0</td>\n",
       "      <td>134</td>\n",
       "      <td>0</td>\n",
       "      <td>0</td>\n",
       "      <td>15</td>\n",
       "      <td>...</td>\n",
       "      <td>0</td>\n",
       "      <td>0</td>\n",
       "      <td>0</td>\n",
       "      <td>0</td>\n",
       "      <td>0</td>\n",
       "      <td>0</td>\n",
       "      <td>0</td>\n",
       "      <td>0</td>\n",
       "      <td>0</td>\n",
       "      <td>35</td>\n",
       "    </tr>\n",
       "    <tr>\n",
       "      <th>2</th>\n",
       "      <td>0</td>\n",
       "      <td>0</td>\n",
       "      <td>0</td>\n",
       "      <td>0</td>\n",
       "      <td>0</td>\n",
       "      <td>0</td>\n",
       "      <td>0</td>\n",
       "      <td>0</td>\n",
       "      <td>0</td>\n",
       "      <td>0</td>\n",
       "      <td>...</td>\n",
       "      <td>0</td>\n",
       "      <td>0</td>\n",
       "      <td>0</td>\n",
       "      <td>0</td>\n",
       "      <td>0</td>\n",
       "      <td>0</td>\n",
       "      <td>0</td>\n",
       "      <td>0</td>\n",
       "      <td>0</td>\n",
       "      <td>25</td>\n",
       "    </tr>\n",
       "    <tr>\n",
       "      <th>3</th>\n",
       "      <td>0</td>\n",
       "      <td>0</td>\n",
       "      <td>0</td>\n",
       "      <td>0</td>\n",
       "      <td>21</td>\n",
       "      <td>0</td>\n",
       "      <td>0</td>\n",
       "      <td>0</td>\n",
       "      <td>0</td>\n",
       "      <td>58</td>\n",
       "      <td>...</td>\n",
       "      <td>0</td>\n",
       "      <td>0</td>\n",
       "      <td>0</td>\n",
       "      <td>0</td>\n",
       "      <td>0</td>\n",
       "      <td>0</td>\n",
       "      <td>0</td>\n",
       "      <td>0</td>\n",
       "      <td>0</td>\n",
       "      <td>0</td>\n",
       "    </tr>\n",
       "    <tr>\n",
       "      <th>4</th>\n",
       "      <td>0</td>\n",
       "      <td>0</td>\n",
       "      <td>0</td>\n",
       "      <td>0</td>\n",
       "      <td>0</td>\n",
       "      <td>0</td>\n",
       "      <td>0</td>\n",
       "      <td>0</td>\n",
       "      <td>19</td>\n",
       "      <td>0</td>\n",
       "      <td>...</td>\n",
       "      <td>0</td>\n",
       "      <td>0</td>\n",
       "      <td>0</td>\n",
       "      <td>0</td>\n",
       "      <td>0</td>\n",
       "      <td>17</td>\n",
       "      <td>28</td>\n",
       "      <td>0</td>\n",
       "      <td>0</td>\n",
       "      <td>0</td>\n",
       "    </tr>\n",
       "  </tbody>\n",
       "</table>\n",
       "<p>5 rows × 239 columns</p>\n",
       "</div>"
      ],
      "text/plain": [
       "   ABILIFY  ACYCLOVIR  ADVAIR.DISKUS  AGGRENOX  ALENDRONATE.SODIUM  \\\n",
       "0        0          0              0         0                   0   \n",
       "1        0          0              0         0                   0   \n",
       "2        0          0              0         0                   0   \n",
       "3        0          0              0         0                  21   \n",
       "4        0          0              0         0                   0   \n",
       "\n",
       "   ALLOPURINOL  ALPRAZOLAM  AMIODARONE.HCL  AMITRIPTYLINE.HCL  \\\n",
       "0            0           0               0                  0   \n",
       "1            0         134               0                  0   \n",
       "2            0           0               0                  0   \n",
       "3            0           0               0                  0   \n",
       "4            0           0               0                 19   \n",
       "\n",
       "   AMLODIPINE.BESYLATE        ...          VENTOLIN.HFA  VERAPAMIL.ER  \\\n",
       "0                    0        ...                     0             0   \n",
       "1                   15        ...                     0             0   \n",
       "2                    0        ...                     0             0   \n",
       "3                   58        ...                     0             0   \n",
       "4                    0        ...                     0             0   \n",
       "\n",
       "   VESICARE  VOLTAREN  VYTORIN  WARFARIN.SODIUM  XARELTO  ZETIA  \\\n",
       "0         0         0        0                0        0      0   \n",
       "1         0         0        0                0        0      0   \n",
       "2         0         0        0                0        0      0   \n",
       "3         0         0        0                0        0      0   \n",
       "4         0         0        0               17       28      0   \n",
       "\n",
       "   ZIPRASIDONE.HCL  ZOLPIDEM.TARTRATE  \n",
       "0                0                  0  \n",
       "1                0                 35  \n",
       "2                0                 25  \n",
       "3                0                  0  \n",
       "4                0                  0  \n",
       "\n",
       "[5 rows x 239 columns]"
      ]
     },
     "execution_count": 10,
     "metadata": {},
     "output_type": "execute_result"
    }
   ],
   "source": [
    "features.head()"
   ]
  },
  {
   "cell_type": "markdown",
   "metadata": {},
   "source": [
    "# Eliminate features based on variance"
   ]
  },
  {
   "cell_type": "code",
   "execution_count": 11,
   "metadata": {
    "collapsed": false
   },
   "outputs": [],
   "source": [
    "from sklearn.feature_selection import VarianceThreshold\n",
    "vt = VarianceThreshold()\n",
    "xt = vt.fit_transform(features.values)\n",
    "variances = vt.variances_"
   ]
  },
  {
   "cell_type": "code",
   "execution_count": 12,
   "metadata": {
    "collapsed": false
   },
   "outputs": [],
   "source": [
    "thresholds = np.percentile(variances, [1, 10, 20, 30, 40, 50])\n",
    "# various thresholds to be tested on"
   ]
  },
  {
   "cell_type": "code",
   "execution_count": 13,
   "metadata": {
    "collapsed": true
   },
   "outputs": [],
   "source": [
    "depths = [i for i in range(1, 50, 5)]\n",
    "# various depths to explore with"
   ]
  },
  {
   "cell_type": "code",
   "execution_count": 14,
   "metadata": {
    "collapsed": true
   },
   "outputs": [],
   "source": [
    "cv = ShuffleSplit(n_splits=5, test_size=0.4, random_state=0)\n",
    "# define how data is to be splitted for CV"
   ]
  },
  {
   "cell_type": "code",
   "execution_count": 15,
   "metadata": {
    "collapsed": false
   },
   "outputs": [
    {
     "data": {
      "text/plain": [
       "GridSearchCV(cv=ShuffleSplit(n_splits=5, random_state=0, test_size=0.4, train_size=None),\n",
       "       error_score='raise',\n",
       "       estimator=Pipeline(steps=[('vt', VarianceThreshold(threshold=0)), ('tree', DecisionTreeClassifier(class_weight=None, criterion='entropy', max_depth=None,\n",
       "            max_features=None, max_leaf_nodes=None,\n",
       "            min_impurity_split=1e-07, min_samples_leaf=1,\n",
       "            min_samples_split=2, min_weight_fraction_leaf=0.0,\n",
       "            presort=False, random_state=None, splitter='best'))]),\n",
       "       fit_params={}, iid=True, n_jobs=-1,\n",
       "       param_grid={'tree__max_depth': [1, 6, 11, 16, 21, 26, 31, 36, 41, 46], 'vt__threshold': array([  14.56242,   31.89763,   57.22553,   84.06396,  120.60706,\n",
       "        184.98242])},\n",
       "       pre_dispatch='2*n_jobs', refit=True, return_train_score=True,\n",
       "       scoring='accuracy', verbose=0)"
      ]
     },
     "execution_count": 15,
     "metadata": {},
     "output_type": "execute_result"
    }
   ],
   "source": [
    "vt = VarianceThreshold(threshold = 0)\n",
    "# initialize the variance\n",
    "pipe = Pipeline([(\"vt\", vt), (\"tree\", tree.DecisionTreeClassifier(criterion = \"entropy\"))])\n",
    "# pipeline to work\n",
    "params = {\"vt__threshold\":thresholds, \"tree__max_depth\":depths}\n",
    "# parameters to be tested with\n",
    "clf = GridSearchCV(pipe, param_grid = params, n_jobs=-1, cv = cv, scoring = \"accuracy\")\n",
    "# test various parameters on the classifier\n",
    "clf.fit(features.values, labels.values)\n",
    "# fit the data"
   ]
  },
  {
   "cell_type": "code",
   "execution_count": 16,
   "metadata": {
    "collapsed": false
   },
   "outputs": [],
   "source": [
    "cv_results = clf.cv_results_"
   ]
  },
  {
   "cell_type": "code",
   "execution_count": 17,
   "metadata": {
    "collapsed": true
   },
   "outputs": [],
   "source": [
    "results_dict = {}\n",
    "# empty dict\n",
    "for j in range(len(cv_results['params'])):\n",
    "        # iterate over the index of each parameter\n",
    "        k = tuple(sorted(cv_results['params'][j].items()))\n",
    "        # the key to the dict\n",
    "        results_dict[k] = []\n",
    "        # empty dict\n",
    "        for i in range(5):\n",
    "            # iterate over each CV\n",
    "            results_dict[k].append(cv_results['split{0}_test_score'.format(i)][j])\n",
    "            # append score to the dict\n",
    "        results_dict[k] = np.mean(results_dict[k])*100\n",
    "        # take the mean of all CV's\n",
    "            "
   ]
  },
  {
   "cell_type": "code",
   "execution_count": 18,
   "metadata": {
    "collapsed": false
   },
   "outputs": [],
   "source": [
    "tree_depth, test_threshold, acc = [], [], []\n",
    "for each in results_dict.items():\n",
    "    tree_depth.append(each[0][0][-1])\n",
    "    test_threshold.append(each[0][1][-1])\n",
    "    acc.append(each[1])\n",
    "    \n",
    "result_df = pd.DataFrame()\n",
    "result_df['Depth'] = tree_depth\n",
    "result_df['Threshold'] = test_threshold\n",
    "result_df['accuracy'] = acc"
   ]
  },
  {
   "cell_type": "code",
   "execution_count": 22,
   "metadata": {
    "collapsed": false
   },
   "outputs": [
    {
     "data": {
      "text/plain": [
       "<matplotlib.text.Text at 0x265871d6c18>"
      ]
     },
     "execution_count": 22,
     "metadata": {},
     "output_type": "execute_result"
    },
    {
     "data": {
      "image/png": "[encoded data removed]",
      "text/plain": [
       "<matplotlib.figure.Figure at 0x26586f86390>"
      ]
     },
     "metadata": {},
     "output_type": "display_data"
    }
   ],
   "source": [
    "plt.figure(figsize = (6,4))\n",
    "unique_threshold = sorted(result_df['Threshold'].unique())\n",
    "for i in range(len(unique_threshold)):\n",
    "    # iterate over each unique threshold\n",
    "    data = result_df[result_df['Threshold'] == unique_threshold[i]]\n",
    "    plt.subplot(2, 3, i+1)\n",
    "    plt.scatter(data['Depth'], data['accuracy'])\n",
    "    plt.title(\"Var: \"+str(round(unique_threshold[i], 2)), fontsize = 8)\n",
    "    plt.xlabel(\"Depth\", fontsize = 8)\n",
    "    plt.ylabel(\"Accuracy\", fontsize = 8)\n",
    "    plt.xticks(fontsize = 8)\n",
    "    plt.yticks(fontsize = 8)\n",
    "plt.tight_layout()\n",
    "plt.suptitle(\"Depth Vs Accuracy graphs for various variance threshold\", fontsize = 8, y = 1.01)\n",
    "#sns.lmplot('Depth', 'accuracy', hue = 'Threshold', data = result_df, fit_reg=False,palette=sns.color_palette(\"Blues\"))"
   ]
  },
  {
   "cell_type": "code",
   "execution_count": 23,
   "metadata": {
    "collapsed": false
   },
   "outputs": [
    {
     "name": "stdout",
     "output_type": "stream",
     "text": [
      "Best variance threshold\n",
      "{'tree__max_depth': 11, 'vt__threshold': 184.98241742571639}\n"
     ]
    }
   ],
   "source": [
    "print(\"Best variance threshold\")\n",
    "print(clf.best_params_)"
   ]
  },
  {
   "cell_type": "code",
   "execution_count": 24,
   "metadata": {
    "collapsed": false
   },
   "outputs": [],
   "source": [
    "feature_variance_dict = sorted(zip(features.columns, variances), key = lambda x : x[1], reverse = True)\n",
    "# get the feature variance dict\n",
    "new_features = [f[0] for f in feature_variance_dict if f[1] > clf.best_params_['vt__threshold']]\n",
    "# get the new features"
   ]
  },
  {
   "cell_type": "markdown",
   "metadata": {},
   "source": [
    "## Update feature space"
   ]
  },
  {
   "cell_type": "code",
   "execution_count": 25,
   "metadata": {
    "collapsed": false
   },
   "outputs": [
    {
     "name": "stdout",
     "output_type": "stream",
     "text": [
      "119\n"
     ]
    },
    {
     "data": {
      "text/html": [
       "<div>\n",
       "<table border=\"1\" class=\"dataframe\">\n",
       "  <thead>\n",
       "    <tr style=\"text-align: right;\">\n",
       "      <th></th>\n",
       "      <th>LEVOTHYROXINE.SODIUM</th>\n",
       "      <th>AMLODIPINE.BESYLATE</th>\n",
       "      <th>LISINOPRIL</th>\n",
       "      <th>SIMVASTATIN</th>\n",
       "      <th>OMEPRAZOLE</th>\n",
       "      <th>ATORVASTATIN.CALCIUM</th>\n",
       "      <th>FUROSEMIDE</th>\n",
       "      <th>WARFARIN.SODIUM</th>\n",
       "      <th>METFORMIN.HCL</th>\n",
       "      <th>METOPROLOL.TARTRATE</th>\n",
       "      <th>...</th>\n",
       "      <th>TOPIRAMATE</th>\n",
       "      <th>SULFAMETHOXAZOLE.TRIMETHOPRIM</th>\n",
       "      <th>BUSPIRONE.HCL</th>\n",
       "      <th>AMITRIPTYLINE.HCL</th>\n",
       "      <th>AMIODARONE.HCL</th>\n",
       "      <th>LEVOFLOXACIN</th>\n",
       "      <th>NIFEDIPINE.ER</th>\n",
       "      <th>KLOR.CON.M20</th>\n",
       "      <th>CYCLOBENZAPRINE.HCL</th>\n",
       "      <th>NAPROXEN</th>\n",
       "    </tr>\n",
       "  </thead>\n",
       "  <tbody>\n",
       "    <tr>\n",
       "      <th>0</th>\n",
       "      <td>0</td>\n",
       "      <td>0</td>\n",
       "      <td>0</td>\n",
       "      <td>0</td>\n",
       "      <td>0</td>\n",
       "      <td>0</td>\n",
       "      <td>0</td>\n",
       "      <td>0</td>\n",
       "      <td>0</td>\n",
       "      <td>0</td>\n",
       "      <td>...</td>\n",
       "      <td>0</td>\n",
       "      <td>0</td>\n",
       "      <td>0</td>\n",
       "      <td>0</td>\n",
       "      <td>0</td>\n",
       "      <td>0</td>\n",
       "      <td>0</td>\n",
       "      <td>0</td>\n",
       "      <td>0</td>\n",
       "      <td>0</td>\n",
       "    </tr>\n",
       "    <tr>\n",
       "      <th>1</th>\n",
       "      <td>31</td>\n",
       "      <td>15</td>\n",
       "      <td>52</td>\n",
       "      <td>51</td>\n",
       "      <td>85</td>\n",
       "      <td>0</td>\n",
       "      <td>0</td>\n",
       "      <td>0</td>\n",
       "      <td>39</td>\n",
       "      <td>18</td>\n",
       "      <td>...</td>\n",
       "      <td>0</td>\n",
       "      <td>0</td>\n",
       "      <td>15</td>\n",
       "      <td>0</td>\n",
       "      <td>0</td>\n",
       "      <td>0</td>\n",
       "      <td>0</td>\n",
       "      <td>0</td>\n",
       "      <td>22</td>\n",
       "      <td>0</td>\n",
       "    </tr>\n",
       "    <tr>\n",
       "      <th>2</th>\n",
       "      <td>0</td>\n",
       "      <td>0</td>\n",
       "      <td>0</td>\n",
       "      <td>0</td>\n",
       "      <td>0</td>\n",
       "      <td>0</td>\n",
       "      <td>0</td>\n",
       "      <td>0</td>\n",
       "      <td>0</td>\n",
       "      <td>0</td>\n",
       "      <td>...</td>\n",
       "      <td>0</td>\n",
       "      <td>0</td>\n",
       "      <td>0</td>\n",
       "      <td>0</td>\n",
       "      <td>0</td>\n",
       "      <td>0</td>\n",
       "      <td>0</td>\n",
       "      <td>0</td>\n",
       "      <td>0</td>\n",
       "      <td>0</td>\n",
       "    </tr>\n",
       "    <tr>\n",
       "      <th>3</th>\n",
       "      <td>0</td>\n",
       "      <td>58</td>\n",
       "      <td>110</td>\n",
       "      <td>80</td>\n",
       "      <td>52</td>\n",
       "      <td>13</td>\n",
       "      <td>48</td>\n",
       "      <td>0</td>\n",
       "      <td>57</td>\n",
       "      <td>55</td>\n",
       "      <td>...</td>\n",
       "      <td>0</td>\n",
       "      <td>0</td>\n",
       "      <td>0</td>\n",
       "      <td>0</td>\n",
       "      <td>0</td>\n",
       "      <td>0</td>\n",
       "      <td>0</td>\n",
       "      <td>0</td>\n",
       "      <td>12</td>\n",
       "      <td>0</td>\n",
       "    </tr>\n",
       "    <tr>\n",
       "      <th>4</th>\n",
       "      <td>0</td>\n",
       "      <td>0</td>\n",
       "      <td>0</td>\n",
       "      <td>0</td>\n",
       "      <td>0</td>\n",
       "      <td>0</td>\n",
       "      <td>0</td>\n",
       "      <td>17</td>\n",
       "      <td>0</td>\n",
       "      <td>0</td>\n",
       "      <td>...</td>\n",
       "      <td>0</td>\n",
       "      <td>14</td>\n",
       "      <td>0</td>\n",
       "      <td>19</td>\n",
       "      <td>0</td>\n",
       "      <td>0</td>\n",
       "      <td>0</td>\n",
       "      <td>0</td>\n",
       "      <td>0</td>\n",
       "      <td>0</td>\n",
       "    </tr>\n",
       "  </tbody>\n",
       "</table>\n",
       "<p>5 rows × 119 columns</p>\n",
       "</div>"
      ],
      "text/plain": [
       "   LEVOTHYROXINE.SODIUM  AMLODIPINE.BESYLATE  LISINOPRIL  SIMVASTATIN  \\\n",
       "0                     0                    0           0            0   \n",
       "1                    31                   15          52           51   \n",
       "2                     0                    0           0            0   \n",
       "3                     0                   58         110           80   \n",
       "4                     0                    0           0            0   \n",
       "\n",
       "   OMEPRAZOLE  ATORVASTATIN.CALCIUM  FUROSEMIDE  WARFARIN.SODIUM  \\\n",
       "0           0                     0           0                0   \n",
       "1          85                     0           0                0   \n",
       "2           0                     0           0                0   \n",
       "3          52                    13          48                0   \n",
       "4           0                     0           0               17   \n",
       "\n",
       "   METFORMIN.HCL  METOPROLOL.TARTRATE    ...     TOPIRAMATE  \\\n",
       "0              0                    0    ...              0   \n",
       "1             39                   18    ...              0   \n",
       "2              0                    0    ...              0   \n",
       "3             57                   55    ...              0   \n",
       "4              0                    0    ...              0   \n",
       "\n",
       "   SULFAMETHOXAZOLE.TRIMETHOPRIM  BUSPIRONE.HCL  AMITRIPTYLINE.HCL  \\\n",
       "0                              0              0                  0   \n",
       "1                              0             15                  0   \n",
       "2                              0              0                  0   \n",
       "3                              0              0                  0   \n",
       "4                             14              0                 19   \n",
       "\n",
       "   AMIODARONE.HCL  LEVOFLOXACIN  NIFEDIPINE.ER  KLOR.CON.M20  \\\n",
       "0               0             0              0             0   \n",
       "1               0             0              0             0   \n",
       "2               0             0              0             0   \n",
       "3               0             0              0             0   \n",
       "4               0             0              0             0   \n",
       "\n",
       "   CYCLOBENZAPRINE.HCL  NAPROXEN  \n",
       "0                    0         0  \n",
       "1                   22         0  \n",
       "2                    0         0  \n",
       "3                   12         0  \n",
       "4                    0         0  \n",
       "\n",
       "[5 rows x 119 columns]"
      ]
     },
     "execution_count": 25,
     "metadata": {},
     "output_type": "execute_result"
    }
   ],
   "source": [
    "features = features[new_features]\n",
    "# udpate the feature space\n",
    "print(len(features.columns))\n",
    "features.head()"
   ]
  },
  {
   "cell_type": "markdown",
   "metadata": {},
   "source": [
    "# Top K feature selection using chi-square test"
   ]
  },
  {
   "cell_type": "code",
   "execution_count": 29,
   "metadata": {
    "collapsed": false
   },
   "outputs": [
    {
     "data": {
      "text/plain": [
       "[20, 39, 59, 79, 99, 119]"
      ]
     },
     "execution_count": 29,
     "metadata": {},
     "output_type": "execute_result"
    }
   ],
   "source": [
    "top_k_features = list(np.linspace(20, len(features.columns), 6))\n",
    "# top k features that we would like to get\n",
    "top_k_features = [int(i) for i in top_k_features]\n",
    "top_k_features"
   ]
  },
  {
   "cell_type": "code",
   "execution_count": 30,
   "metadata": {
    "collapsed": false
   },
   "outputs": [
    {
     "data": {
      "text/plain": [
       "GridSearchCV(cv=ShuffleSplit(n_splits=5, random_state=0, test_size=0.4, train_size=None),\n",
       "       error_score='raise',\n",
       "       estimator=Pipeline(steps=[('topk', SelectKBest(k=1, score_func=<function chi2 at 0x0000026586306730>)), ('tree', DecisionTreeClassifier(class_weight=None, criterion='entropy', max_depth=None,\n",
       "            max_features=None, max_leaf_nodes=None,\n",
       "            min_impurity_split=1e-07, min_samples_leaf=1,\n",
       "            min_samples_split=2, min_weight_fraction_leaf=0.0,\n",
       "            presort=False, random_state=None, splitter='best'))]),\n",
       "       fit_params={}, iid=True, n_jobs=-1,\n",
       "       param_grid={'tree__max_depth': [1, 6, 11, 16, 21, 26, 31, 36, 41, 46], 'topk__k': [20, 39, 59, 79, 99, 119]},\n",
       "       pre_dispatch='2*n_jobs', refit=True, return_train_score=True,\n",
       "       scoring='accuracy', verbose=0)"
      ]
     },
     "execution_count": 30,
     "metadata": {},
     "output_type": "execute_result"
    }
   ],
   "source": [
    "top_k = SelectKBest(score_func = chi2, k = 1)\n",
    "# method to get the top-k features using chi2 test\n",
    "pipe = Pipeline([(\"topk\", top_k), (\"tree\", tree.DecisionTreeClassifier(criterion = \"entropy\"))])\n",
    "# pipeline to work\n",
    "params = {\"topk__k\":top_k_features, \"tree__max_depth\":depths}\n",
    "# parameters to be tested with\n",
    "clf = GridSearchCV(pipe, param_grid = params, n_jobs=-1, cv = cv, scoring = \"accuracy\")\n",
    "# test various parameters on the classifier\n",
    "clf.fit(features.values, labels.values)\n",
    "# fit the data"
   ]
  },
  {
   "cell_type": "code",
   "execution_count": 31,
   "metadata": {
    "collapsed": false
   },
   "outputs": [],
   "source": [
    "cv_results = clf.cv_results_\n",
    "results_dict = {}\n",
    "# empty dict\n",
    "for j in range(len(cv_results['params'])):\n",
    "        # iterate over the index of each parameter\n",
    "        k = tuple(sorted(cv_results['params'][j].items()))\n",
    "        # the key to the dict\n",
    "        results_dict[k] = []\n",
    "        # empty dict\n",
    "        for i in range(5):\n",
    "            # iterate over each CV\n",
    "            results_dict[k].append(cv_results['split{0}_test_score'.format(i)][j])\n",
    "            # append score to the dict\n",
    "        results_dict[k] = np.mean(results_dict[k])*100\n",
    "        # take the mean of all CV's"
   ]
  },
  {
   "cell_type": "code",
   "execution_count": 32,
   "metadata": {
    "collapsed": false
   },
   "outputs": [],
   "source": [
    "tree_depth, test_top_k, acc = [], [], []\n",
    "for each in results_dict.items():\n",
    "    #print(each)\n",
    "    tree_depth.append(each[0][1][-1])\n",
    "    test_top_k.append(each[0][0][-1])\n",
    "    acc.append(each[1])\n",
    "    \n",
    "result_df = pd.DataFrame()\n",
    "result_df['depth'] = tree_depth\n",
    "result_df['top_k'] = test_top_k\n",
    "result_df['accuracy'] = acc"
   ]
  },
  {
   "cell_type": "code",
   "execution_count": 34,
   "metadata": {
    "collapsed": false
   },
   "outputs": [
    {
     "data": {
      "text/plain": [
       "<matplotlib.text.Text at 0x265972aac50>"
      ]
     },
     "execution_count": 34,
     "metadata": {},
     "output_type": "execute_result"
    },
    {
     "data": {
      "image/png": "[encoded data removed]",
      "text/plain": [
       "<matplotlib.figure.Figure at 0x26586f68fd0>"
      ]
     },
     "metadata": {},
     "output_type": "display_data"
    }
   ],
   "source": [
    "plt.figure(figsize = (8,4))\n",
    "unique_val = sorted(result_df['top_k'].unique())\n",
    "\n",
    "for i in range(len(unique_val)):\n",
    "    # iterate over each unique threshold\n",
    "    data = result_df[result_df['top_k'] == unique_val[i]]\n",
    "    plt.subplot(2, 3, i+1)\n",
    "    plt.scatter(data['depth'], data['accuracy'])\n",
    "    plt.title(\"K = \" + str(round(unique_val[i])), fontsize = 8)\n",
    "    plt.xlabel(\"Depth\", fontsize = 8)\n",
    "    plt.ylabel(\"Accuracy\", fontsize = 8)\n",
    "    plt.xticks(fontsize = 8)\n",
    "    plt.yticks(fontsize = 8)\n",
    "plt.tight_layout()\n",
    "plt.suptitle(\"Depth Vs Accuracy graphs for various top K features\", fontsize = 8, y = 1.01)\n",
    "#sns.lmplot('Depth', 'accuracy', hue = 'Threshold', data = result_df, fit_reg=False,palette=sns.color_palette(\"Blues\"))"
   ]
  },
  {
   "cell_type": "code",
   "execution_count": 35,
   "metadata": {
    "collapsed": false
   },
   "outputs": [
    {
     "name": "stdout",
     "output_type": "stream",
     "text": [
      "Best Parameters\n",
      "{'tree__max_depth': 11, 'topk__k': 119}\n"
     ]
    }
   ],
   "source": [
    "print(\"Best Parameters\")\n",
    "print(clf.best_params_)"
   ]
  },
  {
   "cell_type": "code",
   "execution_count": 36,
   "metadata": {
    "collapsed": false
   },
   "outputs": [
    {
     "data": {
      "text/plain": [
       "array([[ 0,  0,  0, ...,  0,  0,  0],\n",
       "       [31, 15, 52, ...,  0, 22,  0],\n",
       "       [ 0,  0,  0, ...,  0,  0,  0],\n",
       "       ..., \n",
       "       [ 0, 18,  0, ...,  0,  0,  0],\n",
       "       [ 0,  0,  0, ...,  0,  0,  0],\n",
       "       [ 0,  0,  0, ...,  0,  0,  0]], dtype=int64)"
      ]
     },
     "execution_count": 36,
     "metadata": {},
     "output_type": "execute_result"
    }
   ],
   "source": [
    "top_k_clf = SelectKBest(score_func = chi2, k = clf.best_params_['topk__k'])\n",
    "# selecting top K features\n",
    "top_k_clf.fit_transform(features.values, labels.values)\n",
    "# fit the data"
   ]
  },
  {
   "cell_type": "code",
   "execution_count": 37,
   "metadata": {
    "collapsed": false
   },
   "outputs": [],
   "source": [
    "feature_k_dict = sorted(zip(features.columns, top_k_clf.scores_), key = lambda x : x[1], reverse = True)\n",
    "# get the feature variance dict\n",
    "top_features = [f[0] for f in feature_k_dict][:clf.best_params_['topk__k']]\n",
    "# get the top K features"
   ]
  },
  {
   "cell_type": "code",
   "execution_count": 38,
   "metadata": {
    "collapsed": false
   },
   "outputs": [
    {
     "data": {
      "text/html": [
       "<div>\n",
       "<table border=\"1\" class=\"dataframe\">\n",
       "  <thead>\n",
       "    <tr style=\"text-align: right;\">\n",
       "      <th></th>\n",
       "      <th>LEVOTHYROXINE.SODIUM</th>\n",
       "      <th>SIMVASTATIN</th>\n",
       "      <th>AMLODIPINE.BESYLATE</th>\n",
       "      <th>LISINOPRIL</th>\n",
       "      <th>OMEPRAZOLE</th>\n",
       "      <th>METFORMIN.HCL</th>\n",
       "      <th>GABAPENTIN</th>\n",
       "      <th>FUROSEMIDE</th>\n",
       "      <th>ATORVASTATIN.CALCIUM</th>\n",
       "      <th>HYDROCHLOROTHIAZIDE</th>\n",
       "      <th>...</th>\n",
       "      <th>OLANZAPINE</th>\n",
       "      <th>DIVALPROEX.SODIUM.ER</th>\n",
       "      <th>RISPERIDONE</th>\n",
       "      <th>DIVALPROEX.SODIUM</th>\n",
       "      <th>XARELTO</th>\n",
       "      <th>BUSPIRONE.HCL</th>\n",
       "      <th>AMIODARONE.HCL</th>\n",
       "      <th>QUETIAPINE.FUMARATE</th>\n",
       "      <th>BUPROPION.XL</th>\n",
       "      <th>KETOCONAZOLE</th>\n",
       "    </tr>\n",
       "  </thead>\n",
       "  <tbody>\n",
       "    <tr>\n",
       "      <th>0</th>\n",
       "      <td>0</td>\n",
       "      <td>0</td>\n",
       "      <td>0</td>\n",
       "      <td>0</td>\n",
       "      <td>0</td>\n",
       "      <td>0</td>\n",
       "      <td>0</td>\n",
       "      <td>0</td>\n",
       "      <td>0</td>\n",
       "      <td>0</td>\n",
       "      <td>...</td>\n",
       "      <td>0</td>\n",
       "      <td>0</td>\n",
       "      <td>0</td>\n",
       "      <td>0</td>\n",
       "      <td>0</td>\n",
       "      <td>0</td>\n",
       "      <td>0</td>\n",
       "      <td>0</td>\n",
       "      <td>0</td>\n",
       "      <td>0</td>\n",
       "    </tr>\n",
       "    <tr>\n",
       "      <th>1</th>\n",
       "      <td>31</td>\n",
       "      <td>51</td>\n",
       "      <td>15</td>\n",
       "      <td>52</td>\n",
       "      <td>85</td>\n",
       "      <td>39</td>\n",
       "      <td>63</td>\n",
       "      <td>0</td>\n",
       "      <td>0</td>\n",
       "      <td>36</td>\n",
       "      <td>...</td>\n",
       "      <td>0</td>\n",
       "      <td>0</td>\n",
       "      <td>0</td>\n",
       "      <td>0</td>\n",
       "      <td>0</td>\n",
       "      <td>15</td>\n",
       "      <td>0</td>\n",
       "      <td>0</td>\n",
       "      <td>0</td>\n",
       "      <td>0</td>\n",
       "    </tr>\n",
       "    <tr>\n",
       "      <th>2</th>\n",
       "      <td>0</td>\n",
       "      <td>0</td>\n",
       "      <td>0</td>\n",
       "      <td>0</td>\n",
       "      <td>0</td>\n",
       "      <td>0</td>\n",
       "      <td>0</td>\n",
       "      <td>0</td>\n",
       "      <td>0</td>\n",
       "      <td>0</td>\n",
       "      <td>...</td>\n",
       "      <td>0</td>\n",
       "      <td>0</td>\n",
       "      <td>0</td>\n",
       "      <td>0</td>\n",
       "      <td>0</td>\n",
       "      <td>0</td>\n",
       "      <td>0</td>\n",
       "      <td>0</td>\n",
       "      <td>42</td>\n",
       "      <td>0</td>\n",
       "    </tr>\n",
       "    <tr>\n",
       "      <th>3</th>\n",
       "      <td>0</td>\n",
       "      <td>80</td>\n",
       "      <td>58</td>\n",
       "      <td>110</td>\n",
       "      <td>52</td>\n",
       "      <td>57</td>\n",
       "      <td>81</td>\n",
       "      <td>48</td>\n",
       "      <td>13</td>\n",
       "      <td>34</td>\n",
       "      <td>...</td>\n",
       "      <td>0</td>\n",
       "      <td>0</td>\n",
       "      <td>0</td>\n",
       "      <td>0</td>\n",
       "      <td>0</td>\n",
       "      <td>0</td>\n",
       "      <td>0</td>\n",
       "      <td>0</td>\n",
       "      <td>0</td>\n",
       "      <td>0</td>\n",
       "    </tr>\n",
       "    <tr>\n",
       "      <th>4</th>\n",
       "      <td>0</td>\n",
       "      <td>0</td>\n",
       "      <td>0</td>\n",
       "      <td>0</td>\n",
       "      <td>0</td>\n",
       "      <td>0</td>\n",
       "      <td>0</td>\n",
       "      <td>0</td>\n",
       "      <td>0</td>\n",
       "      <td>0</td>\n",
       "      <td>...</td>\n",
       "      <td>0</td>\n",
       "      <td>0</td>\n",
       "      <td>0</td>\n",
       "      <td>0</td>\n",
       "      <td>28</td>\n",
       "      <td>0</td>\n",
       "      <td>0</td>\n",
       "      <td>0</td>\n",
       "      <td>0</td>\n",
       "      <td>0</td>\n",
       "    </tr>\n",
       "  </tbody>\n",
       "</table>\n",
       "<p>5 rows × 119 columns</p>\n",
       "</div>"
      ],
      "text/plain": [
       "   LEVOTHYROXINE.SODIUM  SIMVASTATIN  AMLODIPINE.BESYLATE  LISINOPRIL  \\\n",
       "0                     0            0                    0           0   \n",
       "1                    31           51                   15          52   \n",
       "2                     0            0                    0           0   \n",
       "3                     0           80                   58         110   \n",
       "4                     0            0                    0           0   \n",
       "\n",
       "   OMEPRAZOLE  METFORMIN.HCL  GABAPENTIN  FUROSEMIDE  ATORVASTATIN.CALCIUM  \\\n",
       "0           0              0           0           0                     0   \n",
       "1          85             39          63           0                     0   \n",
       "2           0              0           0           0                     0   \n",
       "3          52             57          81          48                    13   \n",
       "4           0              0           0           0                     0   \n",
       "\n",
       "   HYDROCHLOROTHIAZIDE      ...       OLANZAPINE  DIVALPROEX.SODIUM.ER  \\\n",
       "0                    0      ...                0                     0   \n",
       "1                   36      ...                0                     0   \n",
       "2                    0      ...                0                     0   \n",
       "3                   34      ...                0                     0   \n",
       "4                    0      ...                0                     0   \n",
       "\n",
       "   RISPERIDONE  DIVALPROEX.SODIUM  XARELTO  BUSPIRONE.HCL  AMIODARONE.HCL  \\\n",
       "0            0                  0        0              0               0   \n",
       "1            0                  0        0             15               0   \n",
       "2            0                  0        0              0               0   \n",
       "3            0                  0        0              0               0   \n",
       "4            0                  0       28              0               0   \n",
       "\n",
       "   QUETIAPINE.FUMARATE  BUPROPION.XL  KETOCONAZOLE  \n",
       "0                    0             0             0  \n",
       "1                    0             0             0  \n",
       "2                    0            42             0  \n",
       "3                    0             0             0  \n",
       "4                    0             0             0  \n",
       "\n",
       "[5 rows x 119 columns]"
      ]
     },
     "execution_count": 38,
     "metadata": {},
     "output_type": "execute_result"
    }
   ],
   "source": [
    "features = features[top_features]\n",
    "# updating the feature space\n",
    "features.head()"
   ]
  },
  {
   "cell_type": "markdown",
   "metadata": {},
   "source": [
    "# Decision Tree Model"
   ]
  },
  {
   "cell_type": "markdown",
   "metadata": {},
   "source": [
    "## Validation curve"
   ]
  },
  {
   "cell_type": "code",
   "execution_count": 39,
   "metadata": {
    "collapsed": false
   },
   "outputs": [],
   "source": [
    "train_scores, test_scores = validation_curve(tree.DecisionTreeClassifier(criterion=\"entropy\"), features.values,\n",
    "                                            labels.values, param_name = \"max_depth\", param_range  = np.linspace(1, 50, num = 50),\n",
    "                                            scoring = \"accuracy\", n_jobs = -1, cv = 5)\n",
    "# get the validation results for the decision tree across various depths"
   ]
  },
  {
   "cell_type": "code",
   "execution_count": 40,
   "metadata": {
    "collapsed": false
   },
   "outputs": [
    {
     "data": {
      "text/plain": [
       "<matplotlib.text.Text at 0x265874e14e0>"
      ]
     },
     "execution_count": 40,
     "metadata": {},
     "output_type": "execute_result"
    },
    {
     "data": {
      "image/png": "[encoded data removed]",
      "text/plain": [
       "<matplotlib.figure.Figure at 0x26586df3630>"
      ]
     },
     "metadata": {},
     "output_type": "display_data"
    }
   ],
   "source": [
    "train_score_mean = np.mean(train_scores, axis = 1)\n",
    "train_score_std = np.std(train_scores, axis = 1)\n",
    "test_score_mean = np.mean(test_scores, axis = 1)\n",
    "test_score_std = np.std(test_scores, axis = 1)\n",
    "\n",
    "plt.plot(np.linspace(1, 50, num = 50), train_score_mean, label = \"Training scores\")\n",
    "plt.plot(np.linspace(1, 50, num = 50), test_score_mean, label = \"Cross Validation scores\")\n",
    "plt.fill_between(np.linspace(1, 50, num = 50), train_score_mean - train_score_std,\n",
    "                 train_score_mean + train_score_std, alpha=0.2)\n",
    "plt.fill_between(np.linspace(1, 50, num = 50), test_score_mean - test_score_std,\n",
    "                 test_score_mean + test_score_std, alpha=0.2)\n",
    "plt.legend(loc=\"best\")\n",
    "plt.title(\"Validation curve of Decision Tree with varying depth\")\n",
    "plt.xlabel(\"Depth\")\n",
    "plt.ylabel(\"Score\")"
   ]
  },
  {
   "cell_type": "markdown",
   "metadata": {},
   "source": [
    "## Learning curve"
   ]
  },
  {
   "cell_type": "code",
   "execution_count": 41,
   "metadata": {
    "collapsed": true
   },
   "outputs": [],
   "source": [
    "size = np.linspace(0.1, 1, 10)\n",
    "# the size of train sets\n",
    "train_sizes, train_scores, test_scores = learning_curve(tree.DecisionTreeClassifier(criterion=\"entropy\", max_depth=11),\n",
    "                                                   X=features.values, y = labels.values, cv = 5, n_jobs = -1,\n",
    "                                               train_sizes = size)\n",
    "# get the learning curve results for the data"
   ]
  },
  {
   "cell_type": "code",
   "execution_count": 42,
   "metadata": {
    "collapsed": false
   },
   "outputs": [
    {
     "data": {
      "text/plain": [
       "<matplotlib.text.Text at 0x26597450780>"
      ]
     },
     "execution_count": 42,
     "metadata": {},
     "output_type": "execute_result"
    },
    {
     "data": {
      "image/png": "[encoded data removed]",
      "text/plain": [
       "<matplotlib.figure.Figure at 0x265975a8b38>"
      ]
     },
     "metadata": {},
     "output_type": "display_data"
    }
   ],
   "source": [
    "train_score_mean = np.mean(train_scores, axis = 1)\n",
    "train_score_std = np.std(train_scores, axis = 1)\n",
    "test_score_mean = np.mean(test_scores, axis = 1)\n",
    "test_score_std = np.std(test_scores, axis = 1)\n",
    "\n",
    "plt.plot(train_sizes, train_score_mean, label = \"Training scores\")\n",
    "plt.plot(train_sizes, test_score_mean, label = \"Cross Validation scores\")\n",
    "plt.fill_between(train_sizes, train_score_mean - train_score_std,\n",
    "                 train_score_mean + train_score_std, alpha=0.2)\n",
    "plt.fill_between(train_sizes, test_score_mean - test_score_std,\n",
    "                 test_score_mean + test_score_std, alpha=0.2)\n",
    "plt.legend(loc=\"best\")\n",
    "plt.title(\"Learning curve of Decision Tree\")\n",
    "plt.xlabel(\"Training examples\")\n",
    "plt.ylabel(\"Score\")"
   ]
  },
  {
   "cell_type": "code",
   "execution_count": 43,
   "metadata": {
    "collapsed": false
   },
   "outputs": [
    {
     "data": {
      "text/plain": [
       "DecisionTreeClassifier(class_weight=None, criterion='entropy', max_depth=11,\n",
       "            max_features=None, max_leaf_nodes=None,\n",
       "            min_impurity_split=1e-07, min_samples_leaf=1,\n",
       "            min_samples_split=2, min_weight_fraction_leaf=0.0,\n",
       "            presort=False, random_state=None, splitter='best')"
      ]
     },
     "execution_count": 43,
     "metadata": {},
     "output_type": "execute_result"
    }
   ],
   "source": [
    "best_clf = tree.DecisionTreeClassifier(criterion = \"entropy\", max_depth=clf.best_params_['tree__max_depth'])\n",
    "# final best decision tree model\n",
    "best_clf.fit(features.values, labels.values)\n",
    "# fit data to classifier"
   ]
  },
  {
   "cell_type": "code",
   "execution_count": 44,
   "metadata": {
    "collapsed": false
   },
   "outputs": [],
   "source": [
    "predict = cross_val_predict(best_clf, X = features.values, y = labels.values, cv = 5, n_jobs = -1)\n",
    "# predict class label based on CV"
   ]
  },
  {
   "cell_type": "markdown",
   "metadata": {},
   "source": [
    "# Performance metrics"
   ]
  },
  {
   "cell_type": "code",
   "execution_count": 45,
   "metadata": {
    "collapsed": false
   },
   "outputs": [
    {
     "name": "stdout",
     "output_type": "stream",
     "text": [
      "Accuracy: 75.22788983708301%\n",
      "\n",
      "Report\n",
      "             precision    recall  f1-score   support\n",
      "\n",
      "          0       0.71      0.87      0.78     10312\n",
      "          1       0.83      0.64      0.72     10312\n",
      "\n",
      "avg / total       0.77      0.75      0.75     20624\n",
      "\n",
      "Confusion matrix, without normalization\n",
      "[[8924 1388]\n",
      " [3721 6591]]\n",
      "FPR\n",
      "[ 0.          0.13460047  1.        ]\n",
      "TPR\n",
      "[ 0.          0.63915826  1.        ]\n",
      "Thresholds\n",
      "[2 1 0]\n"
     ]
    },
    {
     "data": {
      "image/png": "[encoded data removed]",
      "text/plain": [
       "<matplotlib.figure.Figure at 0x2658e486390>"
      ]
     },
     "metadata": {},
     "output_type": "display_data"
    },
    {
     "data": {
      "image/png": "[encoded data removed]",
      "text/plain": [
       "<matplotlib.figure.Figure at 0x26597542898>"
      ]
     },
     "metadata": {},
     "output_type": "display_data"
    }
   ],
   "source": [
    "performance_metrics(labels, predict)\n",
    "# function call to report performance metrics"
   ]
  },
  {
   "cell_type": "markdown",
   "metadata": {},
   "source": [
    "# Top 10 features"
   ]
  },
  {
   "cell_type": "code",
   "execution_count": 48,
   "metadata": {
    "collapsed": false
   },
   "outputs": [
    {
     "data": {
      "text/html": [
       "<iframe id=\"igraph\" scrolling=\"no\" style=\"border:none;\" seamless=\"seamless\" src=\"https://plot.ly/~anikamal/30.embed\" height=\"525px\" width=\"100%\"></iframe>"
      ],
      "text/plain": [
       "<plotly.tools.PlotlyDisplay object>"
      ]
     },
     "execution_count": 48,
     "metadata": {},
     "output_type": "execute_result"
    }
   ],
   "source": [
    "feature_dict = dict(zip(features.columns, best_clf.feature_importances_))\n",
    "# get the feature and its scores\n",
    "feature_imp = sorted(feature_dict.items(), key = lambda x : x[1], reverse = True)\n",
    "# sort based on feature score\n",
    "x = [i[0] for i in feature_imp]\n",
    "y = [i[1] for i in feature_imp]\n",
    "# top 10 features\n",
    "feature_graph(x, y, filename = \"top-10-tree-with-feature-engg\")\n",
    "# plot the data"
   ]
  },
  {
   "cell_type": "markdown",
   "metadata": {},
   "source": [
    "# Bagging wrapped with Decision Tree"
   ]
  },
  {
   "cell_type": "code",
   "execution_count": 49,
   "metadata": {
    "collapsed": true
   },
   "outputs": [],
   "source": [
    "bagging_classifier = BaggingClassifier(tree.DecisionTreeClassifier(criterion=\"entropy\", max_depth=clf.best_params_['tree__max_depth']))\n",
    "\n",
    "param_range = list(range(1, 12, 5))\n",
    "bag_train_scores, bag_test_scores = validation_curve(bagging_classifier, features.values,\n",
    "                                            labels.values, param_name = \"n_estimators\", param_range  = param_range,\n",
    "                                            scoring = \"accuracy\", n_jobs = -1, cv = 5)\n",
    "# get the validation results for the decision tree across various depths"
   ]
  },
  {
   "cell_type": "code",
   "execution_count": 50,
   "metadata": {
    "collapsed": false
   },
   "outputs": [
    {
     "data": {
      "text/plain": [
       "<matplotlib.text.Text at 0x265977df0f0>"
      ]
     },
     "execution_count": 50,
     "metadata": {},
     "output_type": "execute_result"
    },
    {
     "data": {
      "image/png": "[encoded data removed]",
      "text/plain": [
       "<matplotlib.figure.Figure at 0x265977b3d30>"
      ]
     },
     "metadata": {},
     "output_type": "display_data"
    }
   ],
   "source": [
    "train_score_mean = np.mean(bag_train_scores, axis = 1)\n",
    "train_score_std = np.std(bag_train_scores, axis = 1)\n",
    "test_score_mean = np.mean(bag_test_scores, axis = 1)\n",
    "test_score_std = np.std(bag_test_scores, axis = 1)\n",
    "\n",
    "plt.plot(param_range, train_score_mean, label = \"Training scores\")\n",
    "plt.plot(param_range, test_score_mean, label = \"Cross Validation scores\")\n",
    "plt.fill_between(param_range, train_score_mean - train_score_std,\n",
    "                 train_score_mean + train_score_std, alpha=0.2)\n",
    "plt.fill_between(param_range, test_score_mean - test_score_std,\n",
    "                 test_score_mean + test_score_std, alpha=0.2)\n",
    "plt.legend(loc=\"best\")\n",
    "plt.title(\"Validation curve of Decision Tree with bagging (Depth:{0})\".format(clf.best_params_['tree__max_depth']))\n",
    "plt.xlabel(\"Number of bags\")\n",
    "plt.ylabel(\"Score\")"
   ]
  },
  {
   "cell_type": "code",
   "execution_count": null,
   "metadata": {
    "collapsed": true
   },
   "outputs": [],
   "source": [
    "bagging_classifier = BaggingClassifier(tree.DecisionTreeClassifier(criterion=\"entropy\", max_depth=clf.best_params_['tree__max_depth']), n_estimators = 6)\n",
    "# bagging classifier\n",
    "bagging_classifier.fit(features.values, labels.values)"
   ]
  },
  {
   "cell_type": "markdown",
   "metadata": {},
   "source": [
    "# Logistic Regression"
   ]
  },
  {
   "cell_type": "code",
   "execution_count": 52,
   "metadata": {
    "collapsed": false
   },
   "outputs": [
    {
     "data": {
      "text/html": [
       "<div>\n",
       "<table border=\"1\" class=\"dataframe\">\n",
       "  <thead>\n",
       "    <tr style=\"text-align: right;\">\n",
       "      <th></th>\n",
       "      <th>ABILIFY</th>\n",
       "      <th>ACYCLOVIR</th>\n",
       "      <th>ADVAIR.DISKUS</th>\n",
       "      <th>AGGRENOX</th>\n",
       "      <th>ALENDRONATE.SODIUM</th>\n",
       "      <th>ALLOPURINOL</th>\n",
       "      <th>ALPRAZOLAM</th>\n",
       "      <th>AMIODARONE.HCL</th>\n",
       "      <th>AMITRIPTYLINE.HCL</th>\n",
       "      <th>AMLODIPINE.BESYLATE</th>\n",
       "      <th>...</th>\n",
       "      <th>VENTOLIN.HFA</th>\n",
       "      <th>VERAPAMIL.ER</th>\n",
       "      <th>VESICARE</th>\n",
       "      <th>VOLTAREN</th>\n",
       "      <th>VYTORIN</th>\n",
       "      <th>WARFARIN.SODIUM</th>\n",
       "      <th>XARELTO</th>\n",
       "      <th>ZETIA</th>\n",
       "      <th>ZIPRASIDONE.HCL</th>\n",
       "      <th>ZOLPIDEM.TARTRATE</th>\n",
       "    </tr>\n",
       "  </thead>\n",
       "  <tbody>\n",
       "    <tr>\n",
       "      <th>0</th>\n",
       "      <td>0</td>\n",
       "      <td>0</td>\n",
       "      <td>0</td>\n",
       "      <td>0</td>\n",
       "      <td>0</td>\n",
       "      <td>0</td>\n",
       "      <td>0</td>\n",
       "      <td>0</td>\n",
       "      <td>0</td>\n",
       "      <td>0</td>\n",
       "      <td>...</td>\n",
       "      <td>0</td>\n",
       "      <td>0</td>\n",
       "      <td>0</td>\n",
       "      <td>0</td>\n",
       "      <td>0</td>\n",
       "      <td>0</td>\n",
       "      <td>0</td>\n",
       "      <td>0</td>\n",
       "      <td>0</td>\n",
       "      <td>0</td>\n",
       "    </tr>\n",
       "    <tr>\n",
       "      <th>1</th>\n",
       "      <td>0</td>\n",
       "      <td>0</td>\n",
       "      <td>0</td>\n",
       "      <td>0</td>\n",
       "      <td>0</td>\n",
       "      <td>0</td>\n",
       "      <td>134</td>\n",
       "      <td>0</td>\n",
       "      <td>0</td>\n",
       "      <td>15</td>\n",
       "      <td>...</td>\n",
       "      <td>0</td>\n",
       "      <td>0</td>\n",
       "      <td>0</td>\n",
       "      <td>0</td>\n",
       "      <td>0</td>\n",
       "      <td>0</td>\n",
       "      <td>0</td>\n",
       "      <td>0</td>\n",
       "      <td>0</td>\n",
       "      <td>35</td>\n",
       "    </tr>\n",
       "    <tr>\n",
       "      <th>2</th>\n",
       "      <td>0</td>\n",
       "      <td>0</td>\n",
       "      <td>0</td>\n",
       "      <td>0</td>\n",
       "      <td>0</td>\n",
       "      <td>0</td>\n",
       "      <td>0</td>\n",
       "      <td>0</td>\n",
       "      <td>0</td>\n",
       "      <td>0</td>\n",
       "      <td>...</td>\n",
       "      <td>0</td>\n",
       "      <td>0</td>\n",
       "      <td>0</td>\n",
       "      <td>0</td>\n",
       "      <td>0</td>\n",
       "      <td>0</td>\n",
       "      <td>0</td>\n",
       "      <td>0</td>\n",
       "      <td>0</td>\n",
       "      <td>25</td>\n",
       "    </tr>\n",
       "    <tr>\n",
       "      <th>3</th>\n",
       "      <td>0</td>\n",
       "      <td>0</td>\n",
       "      <td>0</td>\n",
       "      <td>0</td>\n",
       "      <td>21</td>\n",
       "      <td>0</td>\n",
       "      <td>0</td>\n",
       "      <td>0</td>\n",
       "      <td>0</td>\n",
       "      <td>58</td>\n",
       "      <td>...</td>\n",
       "      <td>0</td>\n",
       "      <td>0</td>\n",
       "      <td>0</td>\n",
       "      <td>0</td>\n",
       "      <td>0</td>\n",
       "      <td>0</td>\n",
       "      <td>0</td>\n",
       "      <td>0</td>\n",
       "      <td>0</td>\n",
       "      <td>0</td>\n",
       "    </tr>\n",
       "    <tr>\n",
       "      <th>4</th>\n",
       "      <td>0</td>\n",
       "      <td>0</td>\n",
       "      <td>0</td>\n",
       "      <td>0</td>\n",
       "      <td>0</td>\n",
       "      <td>0</td>\n",
       "      <td>0</td>\n",
       "      <td>0</td>\n",
       "      <td>19</td>\n",
       "      <td>0</td>\n",
       "      <td>...</td>\n",
       "      <td>0</td>\n",
       "      <td>0</td>\n",
       "      <td>0</td>\n",
       "      <td>0</td>\n",
       "      <td>0</td>\n",
       "      <td>17</td>\n",
       "      <td>28</td>\n",
       "      <td>0</td>\n",
       "      <td>0</td>\n",
       "      <td>0</td>\n",
       "    </tr>\n",
       "  </tbody>\n",
       "</table>\n",
       "<p>5 rows × 239 columns</p>\n",
       "</div>"
      ],
      "text/plain": [
       "   ABILIFY  ACYCLOVIR  ADVAIR.DISKUS  AGGRENOX  ALENDRONATE.SODIUM  \\\n",
       "0        0          0              0         0                   0   \n",
       "1        0          0              0         0                   0   \n",
       "2        0          0              0         0                   0   \n",
       "3        0          0              0         0                  21   \n",
       "4        0          0              0         0                   0   \n",
       "\n",
       "   ALLOPURINOL  ALPRAZOLAM  AMIODARONE.HCL  AMITRIPTYLINE.HCL  \\\n",
       "0            0           0               0                  0   \n",
       "1            0         134               0                  0   \n",
       "2            0           0               0                  0   \n",
       "3            0           0               0                  0   \n",
       "4            0           0               0                 19   \n",
       "\n",
       "   AMLODIPINE.BESYLATE        ...          VENTOLIN.HFA  VERAPAMIL.ER  \\\n",
       "0                    0        ...                     0             0   \n",
       "1                   15        ...                     0             0   \n",
       "2                    0        ...                     0             0   \n",
       "3                   58        ...                     0             0   \n",
       "4                    0        ...                     0             0   \n",
       "\n",
       "   VESICARE  VOLTAREN  VYTORIN  WARFARIN.SODIUM  XARELTO  ZETIA  \\\n",
       "0         0         0        0                0        0      0   \n",
       "1         0         0        0                0        0      0   \n",
       "2         0         0        0                0        0      0   \n",
       "3         0         0        0                0        0      0   \n",
       "4         0         0        0               17       28      0   \n",
       "\n",
       "   ZIPRASIDONE.HCL  ZOLPIDEM.TARTRATE  \n",
       "0                0                  0  \n",
       "1                0                 35  \n",
       "2                0                 25  \n",
       "3                0                  0  \n",
       "4                0                  0  \n",
       "\n",
       "[5 rows x 239 columns]"
      ]
     },
     "execution_count": 52,
     "metadata": {},
     "output_type": "execute_result"
    }
   ],
   "source": [
    "from sklearn import linear_model\n",
    "labels = df['Opioid.Prescriber']\n",
    "# get the class label values\n",
    "features = df.drop(labels = 'Opioid.Prescriber', axis = 1)\n",
    "# features for the data\n",
    "features = pd.get_dummies(features)\n",
    "# convert categorical data as features\n",
    "features.head()"
   ]
  },
  {
   "cell_type": "code",
   "execution_count": 53,
   "metadata": {
    "collapsed": false
   },
   "outputs": [
    {
     "data": {
      "text/plain": [
       "GridSearchCV(cv=ShuffleSplit(n_splits=5, random_state=0, test_size=0.4, train_size=None),\n",
       "       error_score='raise',\n",
       "       estimator=Pipeline(steps=[('vt', VarianceThreshold(threshold=0)), ('logistic', LogisticRegression(C=1.0, class_weight=None, dual=False, fit_intercept=True,\n",
       "          intercept_scaling=1, max_iter=100, multi_class='ovr', n_jobs=1,\n",
       "          penalty='l2', random_state=None, solver='liblinear', tol=0.0001,\n",
       "          verbose=0, warm_start=False))]),\n",
       "       fit_params={}, iid=True, n_jobs=-1,\n",
       "       param_grid={'vt__threshold': array([  14.56242,   31.89763,   57.22553,   84.06396,  120.60706,\n",
       "        184.98242]), 'logistic__C': [0.001, 0.01, 0.1, 1, 2]},\n",
       "       pre_dispatch='2*n_jobs', refit=True, return_train_score=True,\n",
       "       scoring='accuracy', verbose=0)"
      ]
     },
     "execution_count": 53,
     "metadata": {},
     "output_type": "execute_result"
    }
   ],
   "source": [
    "vt = VarianceThreshold()\n",
    "xt = vt.fit_transform(features.values)\n",
    "variances = vt.variances_\n",
    "thresholds = np.percentile(variances, [1, 10, 20, 30, 40, 50])\n",
    "# various thresholds to be tested on\n",
    "c_val = [0.001, 0.01, 0.1, 1, 2]\n",
    "# C values\n",
    "vt = VarianceThreshold(threshold = 0)\n",
    "# initialize the variance\n",
    "pipe = Pipeline([(\"vt\", vt), (\"logistic\", linear_model.LogisticRegression())])\n",
    "# pipeline to work\n",
    "params = {\"vt__threshold\":thresholds, \"logistic__C\":c_val}\n",
    "# parameters to be tested with\n",
    "clf = GridSearchCV(pipe, param_grid = params, n_jobs=-1, cv = cv, scoring = \"accuracy\")\n",
    "# test various parameters on the classifier\n",
    "clf.fit(features.values, labels.values)\n",
    "# fit the data"
   ]
  },
  {
   "cell_type": "code",
   "execution_count": 54,
   "metadata": {
    "collapsed": false
   },
   "outputs": [],
   "source": [
    "cv_results = clf.cv_results_\n",
    "results_dict = {}\n",
    "# empty dict\n",
    "for j in range(len(cv_results['params'])):\n",
    "        # iterate over the index of each parameter\n",
    "        k = tuple(sorted(cv_results['params'][j].items()))\n",
    "        # the key to the dict\n",
    "        results_dict[k] = []\n",
    "        # empty dict\n",
    "        for i in range(5):\n",
    "            # iterate over each CV\n",
    "            results_dict[k].append(cv_results['split{0}_test_score'.format(i)][j])\n",
    "            # append score to the dict\n",
    "        results_dict[k] = np.mean(results_dict[k])*100\n",
    "        # take the mean of all CV's\n",
    "            \n",
    "c_value, test_threshold, acc = [], [], []\n",
    "for each in results_dict.items():\n",
    "    c_value.append(each[0][0][-1])\n",
    "    test_threshold.append(each[0][1][-1])\n",
    "    acc.append(each[1])\n",
    "    \n",
    "result_df = pd.DataFrame()\n",
    "result_df['C'] = c_value\n",
    "result_df['Threshold'] = test_threshold\n",
    "result_df['accuracy'] = acc"
   ]
  },
  {
   "cell_type": "code",
   "execution_count": 55,
   "metadata": {
    "collapsed": false
   },
   "outputs": [
    {
     "data": {
      "text/plain": [
       "<matplotlib.text.Text at 0x265914b6dd8>"
      ]
     },
     "execution_count": 55,
     "metadata": {},
     "output_type": "execute_result"
    },
    {
     "data": {
      "image/png": "[encoded data removed]",
      "text/plain": [
       "<matplotlib.figure.Figure at 0x26597a2bcf8>"
      ]
     },
     "metadata": {},
     "output_type": "display_data"
    }
   ],
   "source": [
    "plt.figure(figsize = (6,4))\n",
    "unique_threshold = sorted(result_df['Threshold'].unique())\n",
    "for i in range(len(unique_threshold)):\n",
    "    # iterate over each unique threshold\n",
    "    data = result_df[result_df['Threshold'] == unique_threshold[i]]\n",
    "    plt.subplot(2, 3, i+1)\n",
    "    plt.scatter(data['C'], data['accuracy'])\n",
    "    plt.title(\"Var: \" + str(round(unique_threshold[i], 2)), fontsize = 8)\n",
    "    plt.xlabel(\"C\", fontsize = 8)\n",
    "    plt.ylabel(\"Accuracy\", fontsize = 8)\n",
    "    plt.xticks(fontsize = 8)\n",
    "    plt.yticks(fontsize = 8)\n",
    "plt.tight_layout()\n",
    "plt.suptitle(\"C Vs Accuracy graphs for various variance threshold\", fontsize = 8, y = 1.01)"
   ]
  },
  {
   "cell_type": "code",
   "execution_count": 56,
   "metadata": {
    "collapsed": false
   },
   "outputs": [
    {
     "name": "stdout",
     "output_type": "stream",
     "text": [
      "Best parameters\n"
     ]
    },
    {
     "data": {
      "text/plain": [
       "{'logistic__C': 0.001, 'vt__threshold': 14.562415700358287}"
      ]
     },
     "execution_count": 56,
     "metadata": {},
     "output_type": "execute_result"
    }
   ],
   "source": [
    "print(\"Best parameters\")\n",
    "clf.best_params_"
   ]
  },
  {
   "cell_type": "code",
   "execution_count": 57,
   "metadata": {
    "collapsed": false
   },
   "outputs": [
    {
     "data": {
      "text/html": [
       "<div>\n",
       "<table border=\"1\" class=\"dataframe\">\n",
       "  <thead>\n",
       "    <tr style=\"text-align: right;\">\n",
       "      <th></th>\n",
       "      <th>LEVOTHYROXINE.SODIUM</th>\n",
       "      <th>AMLODIPINE.BESYLATE</th>\n",
       "      <th>LISINOPRIL</th>\n",
       "      <th>SIMVASTATIN</th>\n",
       "      <th>OMEPRAZOLE</th>\n",
       "      <th>ATORVASTATIN.CALCIUM</th>\n",
       "      <th>FUROSEMIDE</th>\n",
       "      <th>WARFARIN.SODIUM</th>\n",
       "      <th>METFORMIN.HCL</th>\n",
       "      <th>METOPROLOL.TARTRATE</th>\n",
       "      <th>...</th>\n",
       "      <th>DILTIAZEM.ER</th>\n",
       "      <th>VENLAFAXINE.HCL</th>\n",
       "      <th>TOPROL.XL</th>\n",
       "      <th>VYTORIN</th>\n",
       "      <th>AGGRENOX</th>\n",
       "      <th>SUMATRIPTAN.SUCCINATE</th>\n",
       "      <th>PROPRANOLOL.HCL.ER</th>\n",
       "      <th>FLOVENT.HFA</th>\n",
       "      <th>VALSARTAN</th>\n",
       "      <th>CARTIA.XT</th>\n",
       "    </tr>\n",
       "  </thead>\n",
       "  <tbody>\n",
       "    <tr>\n",
       "      <th>0</th>\n",
       "      <td>0</td>\n",
       "      <td>0</td>\n",
       "      <td>0</td>\n",
       "      <td>0</td>\n",
       "      <td>0</td>\n",
       "      <td>0</td>\n",
       "      <td>0</td>\n",
       "      <td>0</td>\n",
       "      <td>0</td>\n",
       "      <td>0</td>\n",
       "      <td>...</td>\n",
       "      <td>0</td>\n",
       "      <td>0</td>\n",
       "      <td>0</td>\n",
       "      <td>0</td>\n",
       "      <td>0</td>\n",
       "      <td>0</td>\n",
       "      <td>0</td>\n",
       "      <td>0</td>\n",
       "      <td>0</td>\n",
       "      <td>0</td>\n",
       "    </tr>\n",
       "    <tr>\n",
       "      <th>1</th>\n",
       "      <td>31</td>\n",
       "      <td>15</td>\n",
       "      <td>52</td>\n",
       "      <td>51</td>\n",
       "      <td>85</td>\n",
       "      <td>0</td>\n",
       "      <td>0</td>\n",
       "      <td>0</td>\n",
       "      <td>39</td>\n",
       "      <td>18</td>\n",
       "      <td>...</td>\n",
       "      <td>0</td>\n",
       "      <td>0</td>\n",
       "      <td>0</td>\n",
       "      <td>0</td>\n",
       "      <td>0</td>\n",
       "      <td>0</td>\n",
       "      <td>0</td>\n",
       "      <td>0</td>\n",
       "      <td>0</td>\n",
       "      <td>0</td>\n",
       "    </tr>\n",
       "    <tr>\n",
       "      <th>2</th>\n",
       "      <td>0</td>\n",
       "      <td>0</td>\n",
       "      <td>0</td>\n",
       "      <td>0</td>\n",
       "      <td>0</td>\n",
       "      <td>0</td>\n",
       "      <td>0</td>\n",
       "      <td>0</td>\n",
       "      <td>0</td>\n",
       "      <td>0</td>\n",
       "      <td>...</td>\n",
       "      <td>0</td>\n",
       "      <td>0</td>\n",
       "      <td>0</td>\n",
       "      <td>0</td>\n",
       "      <td>0</td>\n",
       "      <td>0</td>\n",
       "      <td>0</td>\n",
       "      <td>0</td>\n",
       "      <td>0</td>\n",
       "      <td>0</td>\n",
       "    </tr>\n",
       "    <tr>\n",
       "      <th>3</th>\n",
       "      <td>0</td>\n",
       "      <td>58</td>\n",
       "      <td>110</td>\n",
       "      <td>80</td>\n",
       "      <td>52</td>\n",
       "      <td>13</td>\n",
       "      <td>48</td>\n",
       "      <td>0</td>\n",
       "      <td>57</td>\n",
       "      <td>55</td>\n",
       "      <td>...</td>\n",
       "      <td>0</td>\n",
       "      <td>0</td>\n",
       "      <td>0</td>\n",
       "      <td>0</td>\n",
       "      <td>0</td>\n",
       "      <td>0</td>\n",
       "      <td>0</td>\n",
       "      <td>0</td>\n",
       "      <td>0</td>\n",
       "      <td>0</td>\n",
       "    </tr>\n",
       "    <tr>\n",
       "      <th>4</th>\n",
       "      <td>0</td>\n",
       "      <td>0</td>\n",
       "      <td>0</td>\n",
       "      <td>0</td>\n",
       "      <td>0</td>\n",
       "      <td>0</td>\n",
       "      <td>0</td>\n",
       "      <td>17</td>\n",
       "      <td>0</td>\n",
       "      <td>0</td>\n",
       "      <td>...</td>\n",
       "      <td>0</td>\n",
       "      <td>0</td>\n",
       "      <td>0</td>\n",
       "      <td>0</td>\n",
       "      <td>0</td>\n",
       "      <td>0</td>\n",
       "      <td>0</td>\n",
       "      <td>0</td>\n",
       "      <td>0</td>\n",
       "      <td>0</td>\n",
       "    </tr>\n",
       "  </tbody>\n",
       "</table>\n",
       "<p>5 rows × 236 columns</p>\n",
       "</div>"
      ],
      "text/plain": [
       "   LEVOTHYROXINE.SODIUM  AMLODIPINE.BESYLATE  LISINOPRIL  SIMVASTATIN  \\\n",
       "0                     0                    0           0            0   \n",
       "1                    31                   15          52           51   \n",
       "2                     0                    0           0            0   \n",
       "3                     0                   58         110           80   \n",
       "4                     0                    0           0            0   \n",
       "\n",
       "   OMEPRAZOLE  ATORVASTATIN.CALCIUM  FUROSEMIDE  WARFARIN.SODIUM  \\\n",
       "0           0                     0           0                0   \n",
       "1          85                     0           0                0   \n",
       "2           0                     0           0                0   \n",
       "3          52                    13          48                0   \n",
       "4           0                     0           0               17   \n",
       "\n",
       "   METFORMIN.HCL  METOPROLOL.TARTRATE    ...      DILTIAZEM.ER  \\\n",
       "0              0                    0    ...                 0   \n",
       "1             39                   18    ...                 0   \n",
       "2              0                    0    ...                 0   \n",
       "3             57                   55    ...                 0   \n",
       "4              0                    0    ...                 0   \n",
       "\n",
       "   VENLAFAXINE.HCL  TOPROL.XL  VYTORIN  AGGRENOX  SUMATRIPTAN.SUCCINATE  \\\n",
       "0                0          0        0         0                      0   \n",
       "1                0          0        0         0                      0   \n",
       "2                0          0        0         0                      0   \n",
       "3                0          0        0         0                      0   \n",
       "4                0          0        0         0                      0   \n",
       "\n",
       "   PROPRANOLOL.HCL.ER  FLOVENT.HFA  VALSARTAN  CARTIA.XT  \n",
       "0                   0            0          0          0  \n",
       "1                   0            0          0          0  \n",
       "2                   0            0          0          0  \n",
       "3                   0            0          0          0  \n",
       "4                   0            0          0          0  \n",
       "\n",
       "[5 rows x 236 columns]"
      ]
     },
     "execution_count": 57,
     "metadata": {},
     "output_type": "execute_result"
    }
   ],
   "source": [
    "feature_variance_dict = sorted(zip(features.columns, variances), key = lambda x : x[1], reverse = True)\n",
    "# get the feature variance dict\n",
    "new_features = [f[0] for f in feature_variance_dict if f[1] > clf.best_params_['vt__threshold']]\n",
    "# get the new features\n",
    "features = features[new_features]\n",
    "# udpate the feature space\n",
    "features.head()"
   ]
  },
  {
   "cell_type": "markdown",
   "metadata": {},
   "source": [
    "# Selecting top k features based on chi-square test"
   ]
  },
  {
   "cell_type": "code",
   "execution_count": 58,
   "metadata": {
    "collapsed": false
   },
   "outputs": [
    {
     "name": "stdout",
     "output_type": "stream",
     "text": [
      "[20, 63, 106, 149, 192, 236]\n"
     ]
    },
    {
     "data": {
      "text/plain": [
       "GridSearchCV(cv=ShuffleSplit(n_splits=5, random_state=0, test_size=0.4, train_size=None),\n",
       "       error_score='raise',\n",
       "       estimator=Pipeline(steps=[('topk', SelectKBest(k=1, score_func=<function chi2 at 0x0000026586306730>)), ('logistic', LogisticRegression(C=1.0, class_weight=None, dual=False, fit_intercept=True,\n",
       "          intercept_scaling=1, max_iter=100, multi_class='ovr', n_jobs=1,\n",
       "          penalty='l2', random_state=None, solver='liblinear', tol=0.0001,\n",
       "          verbose=0, warm_start=False))]),\n",
       "       fit_params={}, iid=True, n_jobs=-1,\n",
       "       param_grid={'topk__k': [20, 63, 106, 149, 192, 236], 'logistic__C': [0.001, 0.01, 0.1, 1, 2]},\n",
       "       pre_dispatch='2*n_jobs', refit=True, return_train_score=True,\n",
       "       scoring='accuracy', verbose=0)"
      ]
     },
     "execution_count": 58,
     "metadata": {},
     "output_type": "execute_result"
    }
   ],
   "source": [
    "top_k_features = list(np.linspace(20, len(features.columns), 6))\n",
    "top_k_features = [int(i) for i in top_k_features]\n",
    "print(top_k_features)\n",
    "# top k features that we would like to get\n",
    "top_k = SelectKBest(score_func = chi2, k = 1)\n",
    "# method to get the top-k features using chi2 test\n",
    "pipe = Pipeline([(\"topk\", top_k), (\"logistic\", linear_model.LogisticRegression())])\n",
    "# pipeline to work\n",
    "c_val = [0.001, 0.01, 0.1, 1, 2]\n",
    "params = {\"topk__k\":top_k_features, \"logistic__C\":c_val}\n",
    "# parameters to be tested with\n",
    "clf = GridSearchCV(pipe, param_grid = params, n_jobs=-1, cv = cv, scoring = \"accuracy\")\n",
    "# test various parameters on the classifier\n",
    "clf.fit(features.values, labels.values)\n",
    "# fit the data"
   ]
  },
  {
   "cell_type": "code",
   "execution_count": 59,
   "metadata": {
    "collapsed": false
   },
   "outputs": [
    {
     "data": {
      "text/html": [
       "<div>\n",
       "<table border=\"1\" class=\"dataframe\">\n",
       "  <thead>\n",
       "    <tr style=\"text-align: right;\">\n",
       "      <th></th>\n",
       "      <th>C</th>\n",
       "      <th>top_k</th>\n",
       "      <th>accuracy</th>\n",
       "    </tr>\n",
       "  </thead>\n",
       "  <tbody>\n",
       "    <tr>\n",
       "      <th>0</th>\n",
       "      <td>2.00</td>\n",
       "      <td>20</td>\n",
       "      <td>69.580606</td>\n",
       "    </tr>\n",
       "    <tr>\n",
       "      <th>1</th>\n",
       "      <td>0.01</td>\n",
       "      <td>63</td>\n",
       "      <td>74.792727</td>\n",
       "    </tr>\n",
       "    <tr>\n",
       "      <th>2</th>\n",
       "      <td>0.10</td>\n",
       "      <td>63</td>\n",
       "      <td>74.499394</td>\n",
       "    </tr>\n",
       "    <tr>\n",
       "      <th>3</th>\n",
       "      <td>0.01</td>\n",
       "      <td>192</td>\n",
       "      <td>76.455758</td>\n",
       "    </tr>\n",
       "    <tr>\n",
       "      <th>4</th>\n",
       "      <td>1.00</td>\n",
       "      <td>63</td>\n",
       "      <td>74.707879</td>\n",
       "    </tr>\n",
       "  </tbody>\n",
       "</table>\n",
       "</div>"
      ],
      "text/plain": [
       "      C  top_k   accuracy\n",
       "0  2.00     20  69.580606\n",
       "1  0.01     63  74.792727\n",
       "2  0.10     63  74.499394\n",
       "3  0.01    192  76.455758\n",
       "4  1.00     63  74.707879"
      ]
     },
     "execution_count": 59,
     "metadata": {},
     "output_type": "execute_result"
    }
   ],
   "source": [
    "cv_results = clf.cv_results_\n",
    "results_dict = {}\n",
    "# empty dict\n",
    "for j in range(len(cv_results['params'])):\n",
    "        # iterate over the index of each parameter\n",
    "        k = tuple(sorted(cv_results['params'][j].items()))\n",
    "        # the key to the dict\n",
    "        results_dict[k] = []\n",
    "        # empty dict\n",
    "        for i in range(5):\n",
    "            # iterate over each CV\n",
    "            results_dict[k].append(cv_results['split{0}_test_score'.format(i)][j])\n",
    "            # append score to the dict\n",
    "        results_dict[k] = np.mean(results_dict[k])*100\n",
    "        # take the mean of all CV's\n",
    "\n",
    "c_value, test_top_k, acc = [], [], []\n",
    "for each in results_dict.items():\n",
    "    c_value.append(each[0][0][-1])\n",
    "    test_top_k.append(each[0][1][-1])\n",
    "    acc.append(each[1])\n",
    "    \n",
    "result_df = pd.DataFrame()\n",
    "result_df['C'] = c_value\n",
    "result_df['top_k'] = test_top_k\n",
    "result_df['accuracy'] = acc\n",
    "result_df.head()"
   ]
  },
  {
   "cell_type": "code",
   "execution_count": 61,
   "metadata": {
    "collapsed": false
   },
   "outputs": [
    {
     "data": {
      "text/plain": [
       "<matplotlib.text.Text at 0x26591ac6dd8>"
      ]
     },
     "execution_count": 61,
     "metadata": {},
     "output_type": "execute_result"
    },
    {
     "data": {
      "image/png": "[encoded data removed]",
      "text/plain": [
       "<matplotlib.figure.Figure at 0x265914c1eb8>"
      ]
     },
     "metadata": {},
     "output_type": "display_data"
    }
   ],
   "source": [
    "plt.figure(figsize = (8,4))\n",
    "unique_val = sorted(result_df['top_k'].unique())\n",
    "\n",
    "for i in range(len(unique_val)):\n",
    "    # iterate over each unique threshold\n",
    "    data = result_df[result_df['top_k'] == unique_val[i]]\n",
    "    plt.subplot(2, 3, i+1)\n",
    "    plt.scatter(data['C'], data['accuracy'])\n",
    "    plt.title(\"K = \" + str(round(unique_val[i])), fontsize = 8)\n",
    "    plt.xlabel(\"C\", fontsize = 8)\n",
    "    plt.ylabel(\"Accuracy\", fontsize = 8)\n",
    "    plt.xticks(fontsize = 8)\n",
    "    plt.yticks(fontsize = 8)\n",
    "plt.tight_layout()\n",
    "plt.suptitle(\"C Vs Accuracy graphs for various top K features\", fontsize = 8, y = 1.01)"
   ]
  },
  {
   "cell_type": "code",
   "execution_count": 62,
   "metadata": {
    "collapsed": false
   },
   "outputs": [
    {
     "data": {
      "text/plain": [
       "{'logistic__C': 0.001, 'topk__k': 236}"
      ]
     },
     "execution_count": 62,
     "metadata": {},
     "output_type": "execute_result"
    }
   ],
   "source": [
    "clf.best_params_"
   ]
  },
  {
   "cell_type": "code",
   "execution_count": 63,
   "metadata": {
    "collapsed": false
   },
   "outputs": [
    {
     "data": {
      "text/html": [
       "<div>\n",
       "<table border=\"1\" class=\"dataframe\">\n",
       "  <thead>\n",
       "    <tr style=\"text-align: right;\">\n",
       "      <th></th>\n",
       "      <th>LEVOTHYROXINE.SODIUM</th>\n",
       "      <th>SIMVASTATIN</th>\n",
       "      <th>AMLODIPINE.BESYLATE</th>\n",
       "      <th>LISINOPRIL</th>\n",
       "      <th>OMEPRAZOLE</th>\n",
       "      <th>METFORMIN.HCL</th>\n",
       "      <th>GABAPENTIN</th>\n",
       "      <th>FUROSEMIDE</th>\n",
       "      <th>ATORVASTATIN.CALCIUM</th>\n",
       "      <th>HYDROCHLOROTHIAZIDE</th>\n",
       "      <th>...</th>\n",
       "      <th>QUETIAPINE.FUMARATE</th>\n",
       "      <th>OXCARBAZEPINE</th>\n",
       "      <th>NITROSTAT</th>\n",
       "      <th>METRONIDAZOLE</th>\n",
       "      <th>RANEXA</th>\n",
       "      <th>BUPROPION.XL</th>\n",
       "      <th>KETOCONAZOLE</th>\n",
       "      <th>SOTALOL</th>\n",
       "      <th>AMPHETAMINE.SALT.COMBO</th>\n",
       "      <th>PRADAXA</th>\n",
       "    </tr>\n",
       "  </thead>\n",
       "  <tbody>\n",
       "    <tr>\n",
       "      <th>0</th>\n",
       "      <td>0</td>\n",
       "      <td>0</td>\n",
       "      <td>0</td>\n",
       "      <td>0</td>\n",
       "      <td>0</td>\n",
       "      <td>0</td>\n",
       "      <td>0</td>\n",
       "      <td>0</td>\n",
       "      <td>0</td>\n",
       "      <td>0</td>\n",
       "      <td>...</td>\n",
       "      <td>0</td>\n",
       "      <td>0</td>\n",
       "      <td>0</td>\n",
       "      <td>0</td>\n",
       "      <td>0</td>\n",
       "      <td>0</td>\n",
       "      <td>0</td>\n",
       "      <td>0</td>\n",
       "      <td>0</td>\n",
       "      <td>0</td>\n",
       "    </tr>\n",
       "    <tr>\n",
       "      <th>1</th>\n",
       "      <td>31</td>\n",
       "      <td>51</td>\n",
       "      <td>15</td>\n",
       "      <td>52</td>\n",
       "      <td>85</td>\n",
       "      <td>39</td>\n",
       "      <td>63</td>\n",
       "      <td>0</td>\n",
       "      <td>0</td>\n",
       "      <td>36</td>\n",
       "      <td>...</td>\n",
       "      <td>0</td>\n",
       "      <td>0</td>\n",
       "      <td>0</td>\n",
       "      <td>0</td>\n",
       "      <td>0</td>\n",
       "      <td>0</td>\n",
       "      <td>0</td>\n",
       "      <td>0</td>\n",
       "      <td>0</td>\n",
       "      <td>13</td>\n",
       "    </tr>\n",
       "    <tr>\n",
       "      <th>2</th>\n",
       "      <td>0</td>\n",
       "      <td>0</td>\n",
       "      <td>0</td>\n",
       "      <td>0</td>\n",
       "      <td>0</td>\n",
       "      <td>0</td>\n",
       "      <td>0</td>\n",
       "      <td>0</td>\n",
       "      <td>0</td>\n",
       "      <td>0</td>\n",
       "      <td>...</td>\n",
       "      <td>0</td>\n",
       "      <td>0</td>\n",
       "      <td>0</td>\n",
       "      <td>0</td>\n",
       "      <td>0</td>\n",
       "      <td>42</td>\n",
       "      <td>0</td>\n",
       "      <td>0</td>\n",
       "      <td>0</td>\n",
       "      <td>0</td>\n",
       "    </tr>\n",
       "    <tr>\n",
       "      <th>3</th>\n",
       "      <td>0</td>\n",
       "      <td>80</td>\n",
       "      <td>58</td>\n",
       "      <td>110</td>\n",
       "      <td>52</td>\n",
       "      <td>57</td>\n",
       "      <td>81</td>\n",
       "      <td>48</td>\n",
       "      <td>13</td>\n",
       "      <td>34</td>\n",
       "      <td>...</td>\n",
       "      <td>0</td>\n",
       "      <td>0</td>\n",
       "      <td>0</td>\n",
       "      <td>0</td>\n",
       "      <td>0</td>\n",
       "      <td>0</td>\n",
       "      <td>0</td>\n",
       "      <td>0</td>\n",
       "      <td>0</td>\n",
       "      <td>0</td>\n",
       "    </tr>\n",
       "    <tr>\n",
       "      <th>4</th>\n",
       "      <td>0</td>\n",
       "      <td>0</td>\n",
       "      <td>0</td>\n",
       "      <td>0</td>\n",
       "      <td>0</td>\n",
       "      <td>0</td>\n",
       "      <td>0</td>\n",
       "      <td>0</td>\n",
       "      <td>0</td>\n",
       "      <td>0</td>\n",
       "      <td>...</td>\n",
       "      <td>0</td>\n",
       "      <td>0</td>\n",
       "      <td>0</td>\n",
       "      <td>0</td>\n",
       "      <td>0</td>\n",
       "      <td>0</td>\n",
       "      <td>0</td>\n",
       "      <td>0</td>\n",
       "      <td>0</td>\n",
       "      <td>0</td>\n",
       "    </tr>\n",
       "  </tbody>\n",
       "</table>\n",
       "<p>5 rows × 236 columns</p>\n",
       "</div>"
      ],
      "text/plain": [
       "   LEVOTHYROXINE.SODIUM  SIMVASTATIN  AMLODIPINE.BESYLATE  LISINOPRIL  \\\n",
       "0                     0            0                    0           0   \n",
       "1                    31           51                   15          52   \n",
       "2                     0            0                    0           0   \n",
       "3                     0           80                   58         110   \n",
       "4                     0            0                    0           0   \n",
       "\n",
       "   OMEPRAZOLE  METFORMIN.HCL  GABAPENTIN  FUROSEMIDE  ATORVASTATIN.CALCIUM  \\\n",
       "0           0              0           0           0                     0   \n",
       "1          85             39          63           0                     0   \n",
       "2           0              0           0           0                     0   \n",
       "3          52             57          81          48                    13   \n",
       "4           0              0           0           0                     0   \n",
       "\n",
       "   HYDROCHLOROTHIAZIDE   ...     QUETIAPINE.FUMARATE  OXCARBAZEPINE  \\\n",
       "0                    0   ...                       0              0   \n",
       "1                   36   ...                       0              0   \n",
       "2                    0   ...                       0              0   \n",
       "3                   34   ...                       0              0   \n",
       "4                    0   ...                       0              0   \n",
       "\n",
       "   NITROSTAT  METRONIDAZOLE  RANEXA  BUPROPION.XL  KETOCONAZOLE  SOTALOL  \\\n",
       "0          0              0       0             0             0        0   \n",
       "1          0              0       0             0             0        0   \n",
       "2          0              0       0            42             0        0   \n",
       "3          0              0       0             0             0        0   \n",
       "4          0              0       0             0             0        0   \n",
       "\n",
       "   AMPHETAMINE.SALT.COMBO  PRADAXA  \n",
       "0                       0        0  \n",
       "1                       0       13  \n",
       "2                       0        0  \n",
       "3                       0        0  \n",
       "4                       0        0  \n",
       "\n",
       "[5 rows x 236 columns]"
      ]
     },
     "execution_count": 63,
     "metadata": {},
     "output_type": "execute_result"
    }
   ],
   "source": [
    "top_k_clf = SelectKBest(score_func = chi2, k = clf.best_params_['topk__k'])\n",
    "# selecting top K features\n",
    "top_k_clf.fit_transform(features.values, labels.values)\n",
    "# fit the data\n",
    "feature_k_dict = sorted(zip(features.columns, top_k_clf.scores_), key = lambda x : x[1], reverse = True)\n",
    "# get the feature variance dict\n",
    "top_features = [f[0] for f in feature_k_dict][:clf.best_params_['topk__k']]\n",
    "# get the top K features\n",
    "\n",
    "features = features[top_features]\n",
    "# updating the feature space\n",
    "features.head()"
   ]
  },
  {
   "cell_type": "markdown",
   "metadata": {},
   "source": [
    "# Validation curve"
   ]
  },
  {
   "cell_type": "code",
   "execution_count": 66,
   "metadata": {
    "collapsed": false
   },
   "outputs": [
    {
     "data": {
      "text/plain": [
       "<matplotlib.text.Text at 0x26591ea87f0>"
      ]
     },
     "execution_count": 66,
     "metadata": {},
     "output_type": "execute_result"
    },
    {
     "data": {
      "image/png": "[encoded data removed]",
      "text/plain": [
       "<matplotlib.figure.Figure at 0x26591abf860>"
      ]
     },
     "metadata": {},
     "output_type": "display_data"
    }
   ],
   "source": [
    "c_val = [0.001, 0.01, 0.1, 1, 2]\n",
    "train_scores, test_scores = validation_curve(linear_model.LogisticRegression(), features.values,\n",
    "                                            labels.values, param_name = \"C\", param_range  = c_val,\n",
    "                                            scoring = \"accuracy\", n_jobs = -1, cv = 5)\n",
    "# get the validation results for the decision tree across various depths\n",
    "\n",
    "train_score_mean = np.mean(train_scores, axis = 1)\n",
    "train_score_std = np.std(train_scores, axis = 1)\n",
    "test_score_mean = np.mean(test_scores, axis = 1)\n",
    "test_score_std = np.std(test_scores, axis = 1)\n",
    "\n",
    "plt.plot(c_val, train_score_mean, label = \"Training scores\")\n",
    "plt.plot(c_val, test_score_mean, label = \"Cross Validation scores\")\n",
    "plt.fill_between(c_val, train_score_mean - train_score_std,\n",
    "                 train_score_mean + train_score_std, alpha=0.2)\n",
    "plt.fill_between(c_val, test_score_mean - test_score_std,\n",
    "                 test_score_mean + test_score_std, alpha=0.2)\n",
    "plt.legend(loc=\"best\")\n",
    "plt.title(\"Validation curve of Logistic Regression with varying regularization\")\n",
    "plt.xlabel(\"C\")\n",
    "plt.ylabel(\"Score\")"
   ]
  },
  {
   "cell_type": "markdown",
   "metadata": {},
   "source": [
    "# Learning curve"
   ]
  },
  {
   "cell_type": "code",
   "execution_count": 67,
   "metadata": {
    "collapsed": false
   },
   "outputs": [
    {
     "data": {
      "text/plain": [
       "<matplotlib.text.Text at 0x26591e998d0>"
      ]
     },
     "execution_count": 67,
     "metadata": {},
     "output_type": "execute_result"
    },
    {
     "data": {
      "image/png": "[encoded data removed]",
      "text/plain": [
       "<matplotlib.figure.Figure at 0x26591eee048>"
      ]
     },
     "metadata": {},
     "output_type": "display_data"
    }
   ],
   "source": [
    "size = np.linspace(0.1, 1, 10)\n",
    "# the size of train sets\n",
    "train_sizes, train_scores, test_scores = learning_curve(linear_model.LogisticRegression(C=clf.best_params_['logistic__C']),\n",
    "                                                   X=features.values, y = labels.values, cv = 5, n_jobs = -1,\n",
    "                                               train_sizes = size)\n",
    "# get the learning curve results for the data\n",
    "\n",
    "train_score_mean = np.mean(train_scores, axis = 1)\n",
    "train_score_std = np.std(train_scores, axis = 1)\n",
    "test_score_mean = np.mean(test_scores, axis = 1)\n",
    "test_score_std = np.std(test_scores, axis = 1)\n",
    "\n",
    "plt.plot(train_sizes, train_score_mean, label = \"Training scores\")\n",
    "plt.plot(train_sizes, test_score_mean, label = \"Cross Validation scores\")\n",
    "plt.fill_between(train_sizes, train_score_mean - train_score_std,\n",
    "                 train_score_mean + train_score_std, alpha=0.2)\n",
    "plt.fill_between(train_sizes, test_score_mean - test_score_std,\n",
    "                 test_score_mean + test_score_std, alpha=0.2)\n",
    "plt.legend(loc=\"best\")\n",
    "plt.title(\"Learning curve of Logistic Regression\")\n",
    "plt.xlabel(\"Training examples\")\n",
    "plt.ylabel(\"Score\")"
   ]
  },
  {
   "cell_type": "markdown",
   "metadata": {},
   "source": [
    "# Final Logistic Regression Model"
   ]
  },
  {
   "cell_type": "code",
   "execution_count": 68,
   "metadata": {
    "collapsed": false
   },
   "outputs": [
    {
     "data": {
      "text/plain": [
       "LogisticRegression(C=0.001, class_weight=None, dual=False, fit_intercept=True,\n",
       "          intercept_scaling=1, max_iter=100, multi_class='ovr', n_jobs=1,\n",
       "          penalty='l2', random_state=None, solver='liblinear', tol=0.0001,\n",
       "          verbose=0, warm_start=False)"
      ]
     },
     "execution_count": 68,
     "metadata": {},
     "output_type": "execute_result"
    }
   ],
   "source": [
    "best_clf = linear_model.LogisticRegression(C = clf.best_params_['logistic__C'])\n",
    "# final best decision tree model\n",
    "best_clf.fit(features.values, labels.values)\n",
    "# fit data to classifier"
   ]
  },
  {
   "cell_type": "code",
   "execution_count": 69,
   "metadata": {
    "collapsed": true
   },
   "outputs": [],
   "source": [
    "predict = cross_val_predict(best_clf, X = features.values, y = labels.values, cv = 5, n_jobs = -1)\n",
    "# predict class label based on CV"
   ]
  },
  {
   "cell_type": "markdown",
   "metadata": {},
   "source": [
    "# Performance metrics"
   ]
  },
  {
   "cell_type": "code",
   "execution_count": 70,
   "metadata": {
    "collapsed": false
   },
   "outputs": [
    {
     "name": "stdout",
     "output_type": "stream",
     "text": [
      "Accuracy: 77.50678820791312%\n",
      "\n",
      "Report\n",
      "             precision    recall  f1-score   support\n",
      "\n",
      "          0       0.73      0.88      0.80     10312\n",
      "          1       0.85      0.67      0.75     10312\n",
      "\n",
      "avg / total       0.79      0.78      0.77     20624\n",
      "\n",
      "Confusion matrix, without normalization\n",
      "[[9060 1252]\n",
      " [3387 6925]]\n",
      "FPR\n",
      "[ 0.          0.12141195  1.        ]\n",
      "TPR\n",
      "[ 0.          0.67154771  1.        ]\n",
      "Thresholds\n",
      "[2 1 0]\n"
     ]
    },
    {
     "data": {
      "image/png": "[encoded data removed]",
      "text/plain": [
       "<matplotlib.figure.Figure at 0x26591b732e8>"
      ]
     },
     "metadata": {},
     "output_type": "display_data"
    },
    {
     "data": {
      "image/png": "[encoded data removed]",
      "text/plain": [
       "<matplotlib.figure.Figure at 0x26591f5bb70>"
      ]
     },
     "metadata": {},
     "output_type": "display_data"
    }
   ],
   "source": [
    "performance_metrics(labels, predict)\n",
    "# function call to report performance metrics"
   ]
  },
  {
   "cell_type": "markdown",
   "metadata": {},
   "source": [
    "# Top 10 features"
   ]
  },
  {
   "cell_type": "code",
   "execution_count": 71,
   "metadata": {
    "collapsed": false
   },
   "outputs": [
    {
     "data": {
      "text/html": [
       "<iframe id=\"igraph\" scrolling=\"no\" style=\"border:none;\" seamless=\"seamless\" src=\"https://plot.ly/~anikamal/38.embed\" height=\"525px\" width=\"100%\"></iframe>"
      ],
      "text/plain": [
       "<plotly.tools.PlotlyDisplay object>"
      ]
     },
     "execution_count": 71,
     "metadata": {},
     "output_type": "execute_result"
    }
   ],
   "source": [
    "feature_dict = dict(zip(features.columns, best_clf.coef_[0]))\n",
    "# get the feature and its scores\n",
    "feature_imp = sorted(feature_dict.items(), key = lambda x : x[1], reverse = True)\n",
    "# sort based on feature score\n",
    "x = [i[0] for i in feature_imp]\n",
    "y = [i[1] for i in feature_imp]\n",
    "# top 10 features\n",
    "feature_graph(x, y, filename = \"top-10-logistics-with-feature-engg\")\n",
    "# plot the data"
   ]
  },
  {
   "cell_type": "code",
   "execution_count": null,
   "metadata": {
    "collapsed": true
   },
   "outputs": [],
   "source": []
  },
  {
   "cell_type": "code",
   "execution_count": null,
   "metadata": {
    "collapsed": true
   },
   "outputs": [],
   "source": []
  },
  {
   "cell_type": "code",
   "execution_count": null,
   "metadata": {
    "collapsed": true
   },
   "outputs": [],
   "source": []
  },
  {
   "cell_type": "code",
   "execution_count": null,
   "metadata": {
    "collapsed": true
   },
   "outputs": [],
   "source": []
  },
  {
   "cell_type": "code",
   "execution_count": null,
   "metadata": {
    "collapsed": true
   },
   "outputs": [],
   "source": []
  },
  {
   "cell_type": "code",
   "execution_count": null,
   "metadata": {
    "collapsed": true
   },
   "outputs": [],
   "source": []
  },
  {
   "cell_type": "code",
   "execution_count": null,
   "metadata": {
    "collapsed": true
   },
   "outputs": [],
   "source": []
  }
 ],
 "metadata": {
  "anaconda-cloud": {},
  "kernelspec": {
   "display_name": "Python [conda root]",
   "language": "python",
   "name": "conda-root-py"
  },
  "language_info": {
   "codemirror_mode": {
    "name": "ipython",
    "version": 3
   },
   "file_extension": ".py",
   "mimetype": "text/x-python",
   "name": "python",
   "nbconvert_exporter": "python",
   "pygments_lexer": "ipython3",
   "version": "3.5.2"
  }
 },
 "nbformat": 4,
 "nbformat_minor": 1
}
